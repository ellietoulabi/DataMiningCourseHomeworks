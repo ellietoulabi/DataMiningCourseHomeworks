{
 "cells": [
  {
   "cell_type": "markdown",
   "id": "common-might",
   "metadata": {},
   "source": [
    "# Data Mining : Homework 5\n",
    "#### Elaheh Toulabi Nejad   |   9631243\n",
    "\n",
    "<hr style = \"border-top: 4px solid #000000 ; border-radius: 3px;\">"
   ]
  },
  {
   "cell_type": "markdown",
   "id": "small-drinking",
   "metadata": {},
   "source": [
    "# 1) Neural Network"
   ]
  },
  {
   "cell_type": "markdown",
   "id": "collectible-motel",
   "metadata": {},
   "source": [
    "## a)"
   ]
  },
  {
   "cell_type": "code",
   "execution_count": 111,
   "id": "pressed-elizabeth",
   "metadata": {},
   "outputs": [],
   "source": [
    "import pandas as pd\n",
    "import numpy as np"
   ]
  },
  {
   "cell_type": "code",
   "execution_count": 112,
   "id": "adolescent-replication",
   "metadata": {},
   "outputs": [
    {
     "data": {
      "text/html": [
       "<div>\n",
       "<style scoped>\n",
       "    .dataframe tbody tr th:only-of-type {\n",
       "        vertical-align: middle;\n",
       "    }\n",
       "\n",
       "    .dataframe tbody tr th {\n",
       "        vertical-align: top;\n",
       "    }\n",
       "\n",
       "    .dataframe thead th {\n",
       "        text-align: right;\n",
       "    }\n",
       "</style>\n",
       "<table border=\"1\" class=\"dataframe\">\n",
       "  <thead>\n",
       "    <tr style=\"text-align: right;\">\n",
       "      <th></th>\n",
       "      <th>X1</th>\n",
       "      <th>X2</th>\n",
       "      <th>Class</th>\n",
       "    </tr>\n",
       "  </thead>\n",
       "  <tbody>\n",
       "    <tr>\n",
       "      <th>0</th>\n",
       "      <td>1.204442</td>\n",
       "      <td>3.576114</td>\n",
       "      <td>0</td>\n",
       "    </tr>\n",
       "    <tr>\n",
       "      <th>1</th>\n",
       "      <td>0.158710</td>\n",
       "      <td>-1.482171</td>\n",
       "      <td>0</td>\n",
       "    </tr>\n",
       "    <tr>\n",
       "      <th>2</th>\n",
       "      <td>0.095247</td>\n",
       "      <td>-1.279955</td>\n",
       "      <td>0</td>\n",
       "    </tr>\n",
       "  </tbody>\n",
       "</table>\n",
       "</div>"
      ],
      "text/plain": [
       "         X1        X2  Class\n",
       "0  1.204442  3.576114      0\n",
       "1  0.158710 -1.482171      0\n",
       "2  0.095247 -1.279955      0"
      ]
     },
     "execution_count": 112,
     "metadata": {},
     "output_type": "execute_result"
    }
   ],
   "source": [
    "rawdf = pd.read_csv('Flower.csv')\n",
    "rawdf.head(3)"
   ]
  },
  {
   "cell_type": "markdown",
   "id": "northern-bridal",
   "metadata": {},
   "source": [
    "## b)"
   ]
  },
  {
   "cell_type": "markdown",
   "id": "compressed-deviation",
   "metadata": {},
   "source": [
    "### Missing Valuse :"
   ]
  },
  {
   "cell_type": "code",
   "execution_count": 113,
   "id": "determined-master",
   "metadata": {},
   "outputs": [
    {
     "data": {
      "text/plain": [
       "X1       0\n",
       "X2       0\n",
       "Class    0\n",
       "dtype: int64"
      ]
     },
     "execution_count": 113,
     "metadata": {},
     "output_type": "execute_result"
    }
   ],
   "source": [
    "rawdf.isnull().sum()"
   ]
  },
  {
   "cell_type": "code",
   "execution_count": 114,
   "id": "posted-carrier",
   "metadata": {},
   "outputs": [
    {
     "data": {
      "text/plain": [
       "array([0, 1], dtype=int64)"
      ]
     },
     "execution_count": 114,
     "metadata": {},
     "output_type": "execute_result"
    }
   ],
   "source": [
    "rawdf['Class'].unique()"
   ]
  },
  {
   "cell_type": "markdown",
   "id": "traditional-genome",
   "metadata": {},
   "source": [
    "### Outliers"
   ]
  },
  {
   "cell_type": "code",
   "execution_count": 115,
   "id": "affiliated-rebecca",
   "metadata": {},
   "outputs": [
    {
     "name": "stdout",
     "output_type": "stream",
     "text": [
      "Before Removing Outliers:  (400, 3)\n",
      "#Outliers =  0\n",
      "#Not outliers =  400\n",
      "After Removing Outliers:  (400, 3)\n"
     ]
    },
    {
     "name": "stderr",
     "output_type": "stream",
     "text": [
      "<ipython-input-115-def267d5d543>:5: FutureWarning: Automatic reindexing on DataFrame vs Series comparisons is deprecated and will raise ValueError in a future version.  Do `left, right = left.align(right, axis=1, copy=False)` before e.g. `left == right`\n",
      "  mask = ~((rawdf < (Q1 - 1.5 * IQR)) | (rawdf > (Q3 + 1.5 * IQR))).any(axis=1)\n",
      "<ipython-input-115-def267d5d543>:5: FutureWarning: Automatic reindexing on DataFrame vs Series comparisons is deprecated and will raise ValueError in a future version.  Do `left, right = left.align(right, axis=1, copy=False)` before e.g. `left == right`\n",
      "  mask = ~((rawdf < (Q1 - 1.5 * IQR)) | (rawdf > (Q3 + 1.5 * IQR))).any(axis=1)\n"
     ]
    },
    {
     "data": {
      "text/html": [
       "<div>\n",
       "<style scoped>\n",
       "    .dataframe tbody tr th:only-of-type {\n",
       "        vertical-align: middle;\n",
       "    }\n",
       "\n",
       "    .dataframe tbody tr th {\n",
       "        vertical-align: top;\n",
       "    }\n",
       "\n",
       "    .dataframe thead th {\n",
       "        text-align: right;\n",
       "    }\n",
       "</style>\n",
       "<table border=\"1\" class=\"dataframe\">\n",
       "  <thead>\n",
       "    <tr style=\"text-align: right;\">\n",
       "      <th></th>\n",
       "      <th>X1</th>\n",
       "      <th>X2</th>\n",
       "      <th>Class</th>\n",
       "    </tr>\n",
       "  </thead>\n",
       "  <tbody>\n",
       "    <tr>\n",
       "      <th>0</th>\n",
       "      <td>1.204442</td>\n",
       "      <td>3.576114</td>\n",
       "      <td>0</td>\n",
       "    </tr>\n",
       "    <tr>\n",
       "      <th>1</th>\n",
       "      <td>0.158710</td>\n",
       "      <td>-1.482171</td>\n",
       "      <td>0</td>\n",
       "    </tr>\n",
       "    <tr>\n",
       "      <th>2</th>\n",
       "      <td>0.095247</td>\n",
       "      <td>-1.279955</td>\n",
       "      <td>0</td>\n",
       "    </tr>\n",
       "    <tr>\n",
       "      <th>3</th>\n",
       "      <td>0.349178</td>\n",
       "      <td>-2.064380</td>\n",
       "      <td>0</td>\n",
       "    </tr>\n",
       "    <tr>\n",
       "      <th>4</th>\n",
       "      <td>0.694150</td>\n",
       "      <td>2.889109</td>\n",
       "      <td>0</td>\n",
       "    </tr>\n",
       "  </tbody>\n",
       "</table>\n",
       "</div>"
      ],
      "text/plain": [
       "         X1        X2  Class\n",
       "0  1.204442  3.576114      0\n",
       "1  0.158710 -1.482171      0\n",
       "2  0.095247 -1.279955      0\n",
       "3  0.349178 -2.064380      0\n",
       "4  0.694150  2.889109      0"
      ]
     },
     "execution_count": 115,
     "metadata": {},
     "output_type": "execute_result"
    }
   ],
   "source": [
    "print(\"Before Removing Outliers: \",rawdf.shape)\n",
    "Q1 = rawdf.loc[:, rawdf.columns != 'Class'].quantile(0.25)\n",
    "Q3 = rawdf.loc[:, rawdf.columns != 'Class'].quantile(0.75)\n",
    "IQR = Q3 - Q1 \n",
    "mask = ~((rawdf < (Q1 - 1.5 * IQR)) | (rawdf > (Q3 + 1.5 * IQR))).any(axis=1)\n",
    "print(\"#Outliers = \",rawdf[~mask].dropna().shape[0])\n",
    "print(\"#Not outliers = \",rawdf.shape[0]-rawdf[~mask].dropna().shape[0])\n",
    "\n",
    "rawdf= rawdf[mask]\n",
    "print(\"After Removing Outliers: \",rawdf.shape)\n",
    "rawdf.head()"
   ]
  },
  {
   "cell_type": "markdown",
   "id": "swedish-princess",
   "metadata": {},
   "source": [
    "### Normalization:"
   ]
  },
  {
   "cell_type": "code",
   "execution_count": 116,
   "id": "sticky-culture",
   "metadata": {},
   "outputs": [],
   "source": [
    "from sklearn.preprocessing import normalize"
   ]
  },
  {
   "cell_type": "code",
   "execution_count": 118,
   "id": "peripheral-backup",
   "metadata": {},
   "outputs": [
    {
     "data": {
      "text/html": [
       "<div>\n",
       "<style scoped>\n",
       "    .dataframe tbody tr th:only-of-type {\n",
       "        vertical-align: middle;\n",
       "    }\n",
       "\n",
       "    .dataframe tbody tr th {\n",
       "        vertical-align: top;\n",
       "    }\n",
       "\n",
       "    .dataframe thead th {\n",
       "        text-align: right;\n",
       "    }\n",
       "</style>\n",
       "<table border=\"1\" class=\"dataframe\">\n",
       "  <thead>\n",
       "    <tr style=\"text-align: right;\">\n",
       "      <th></th>\n",
       "      <th>X1</th>\n",
       "      <th>X2</th>\n",
       "      <th>Class</th>\n",
       "    </tr>\n",
       "  </thead>\n",
       "  <tbody>\n",
       "    <tr>\n",
       "      <th>0</th>\n",
       "      <td>0.030601</td>\n",
       "      <td>0.089190</td>\n",
       "      <td>0</td>\n",
       "    </tr>\n",
       "    <tr>\n",
       "      <th>1</th>\n",
       "      <td>0.004032</td>\n",
       "      <td>-0.036966</td>\n",
       "      <td>0</td>\n",
       "    </tr>\n",
       "    <tr>\n",
       "      <th>2</th>\n",
       "      <td>0.002420</td>\n",
       "      <td>-0.031923</td>\n",
       "      <td>0</td>\n",
       "    </tr>\n",
       "  </tbody>\n",
       "</table>\n",
       "</div>"
      ],
      "text/plain": [
       "         X1        X2  Class\n",
       "0  0.030601  0.089190      0\n",
       "1  0.004032 -0.036966      0\n",
       "2  0.002420 -0.031923      0"
      ]
     },
     "execution_count": 118,
     "metadata": {},
     "output_type": "execute_result"
    }
   ],
   "source": [
    "numericals = pd.DataFrame(rawdf.loc[:, rawdf.columns != 'Class'])\n",
    "rawdf.loc[:, rawdf.columns != 'Class'] = normalize(numericals, norm='l2',axis=0)\n",
    "df=rawdf\n",
    "df.head(3)"
   ]
  },
  {
   "cell_type": "markdown",
   "id": "departmental-european",
   "metadata": {},
   "source": [
    "<hr style = \"border-top: 3px solid #000000 ; border-radius: 3px;\">\n",
    "\n",
    "<p style =\" direction:rtl;text-align:right;\">\n",
    "همانطور که دیده می شود مقدار null وجود ندارد.\n",
    "    همچنین داده پرت هم نداریم .\n",
    "</p>\n",
    "\n",
    "<hr style = \"border-top: 3px solid #000000 ; border-radius: 3px;\">\n"
   ]
  },
  {
   "cell_type": "markdown",
   "id": "fancy-harassment",
   "metadata": {},
   "source": [
    "## c)"
   ]
  },
  {
   "cell_type": "code",
   "execution_count": 119,
   "id": "dietary-texas",
   "metadata": {},
   "outputs": [],
   "source": [
    "import matplotlib.pyplot as plt\n"
   ]
  },
  {
   "cell_type": "code",
   "execution_count": 120,
   "id": "desirable-priest",
   "metadata": {},
   "outputs": [
    {
     "data": {
      "image/png": "[encoded data removed]",
      "text/plain": [
       "<Figure size 720x720 with 1 Axes>"
      ]
     },
     "metadata": {
      "needs_background": "light"
     },
     "output_type": "display_data"
    }
   ],
   "source": [
    "colors = np.random.rand(400)\n",
    "area = (30 * np.random.rand(400)) \n",
    "fig, axes = plt.subplots(1,1,figsize=(10,10))\n",
    "plt.scatter(df.X1,df.X2, s=area, c=colors, alpha=0.9)\n",
    "plt.show()\n"
   ]
  },
  {
   "cell_type": "markdown",
   "id": "honey-singapore",
   "metadata": {},
   "source": [
    "## d)"
   ]
  },
  {
   "cell_type": "code",
   "execution_count": 121,
   "id": "violent-individual",
   "metadata": {},
   "outputs": [
    {
     "data": {
      "text/html": [
       "<div>\n",
       "<style scoped>\n",
       "    .dataframe tbody tr th:only-of-type {\n",
       "        vertical-align: middle;\n",
       "    }\n",
       "\n",
       "    .dataframe tbody tr th {\n",
       "        vertical-align: top;\n",
       "    }\n",
       "\n",
       "    .dataframe thead th {\n",
       "        text-align: right;\n",
       "    }\n",
       "</style>\n",
       "<table border=\"1\" class=\"dataframe\">\n",
       "  <thead>\n",
       "    <tr style=\"text-align: right;\">\n",
       "      <th></th>\n",
       "      <th>X1</th>\n",
       "      <th>X2</th>\n",
       "    </tr>\n",
       "  </thead>\n",
       "  <tbody>\n",
       "    <tr>\n",
       "      <th>0</th>\n",
       "      <td>0.030601</td>\n",
       "      <td>0.089190</td>\n",
       "    </tr>\n",
       "    <tr>\n",
       "      <th>1</th>\n",
       "      <td>0.004032</td>\n",
       "      <td>-0.036966</td>\n",
       "    </tr>\n",
       "    <tr>\n",
       "      <th>2</th>\n",
       "      <td>0.002420</td>\n",
       "      <td>-0.031923</td>\n",
       "    </tr>\n",
       "  </tbody>\n",
       "</table>\n",
       "</div>"
      ],
      "text/plain": [
       "         X1        X2\n",
       "0  0.030601  0.089190\n",
       "1  0.004032 -0.036966\n",
       "2  0.002420 -0.031923"
      ]
     },
     "metadata": {},
     "output_type": "display_data"
    },
    {
     "data": {
      "text/plain": [
       "0    0\n",
       "1    0\n",
       "2    0\n",
       "Name: Class, dtype: int64"
      ]
     },
     "metadata": {},
     "output_type": "display_data"
    }
   ],
   "source": [
    "X = df[['X1','X2']]\n",
    "y = df['Class']\n",
    "display(X.head(3))\n",
    "display(y.head(3))"
   ]
  },
  {
   "cell_type": "markdown",
   "id": "attractive-outreach",
   "metadata": {},
   "source": [
    "## e)"
   ]
  },
  {
   "cell_type": "code",
   "execution_count": 122,
   "id": "different-concentration",
   "metadata": {},
   "outputs": [],
   "source": [
    "from sklearn.model_selection import train_test_split"
   ]
  },
  {
   "cell_type": "code",
   "execution_count": 123,
   "id": "boxed-consumer",
   "metadata": {},
   "outputs": [],
   "source": [
    "X_train, X_test, y_train, y_test = train_test_split(X, y, test_size=0.2)"
   ]
  },
  {
   "cell_type": "code",
   "execution_count": 124,
   "id": "confirmed-compilation",
   "metadata": {},
   "outputs": [
    {
     "name": "stdout",
     "output_type": "stream",
     "text": [
      "Distribution of defferent classes in training data:(%) \n"
     ]
    },
    {
     "data": {
      "text/html": [
       "<div>\n",
       "<style scoped>\n",
       "    .dataframe tbody tr th:only-of-type {\n",
       "        vertical-align: middle;\n",
       "    }\n",
       "\n",
       "    .dataframe tbody tr th {\n",
       "        vertical-align: top;\n",
       "    }\n",
       "\n",
       "    .dataframe thead th {\n",
       "        text-align: right;\n",
       "    }\n",
       "</style>\n",
       "<table border=\"1\" class=\"dataframe\">\n",
       "  <thead>\n",
       "    <tr style=\"text-align: right;\">\n",
       "      <th></th>\n",
       "      <th>Class</th>\n",
       "    </tr>\n",
       "    <tr>\n",
       "      <th>Class</th>\n",
       "      <th></th>\n",
       "    </tr>\n",
       "  </thead>\n",
       "  <tbody>\n",
       "    <tr>\n",
       "      <th>0</th>\n",
       "      <td>49.0625</td>\n",
       "    </tr>\n",
       "    <tr>\n",
       "      <th>1</th>\n",
       "      <td>50.9375</td>\n",
       "    </tr>\n",
       "  </tbody>\n",
       "</table>\n",
       "</div>"
      ],
      "text/plain": [
       "         Class\n",
       "Class         \n",
       "0      49.0625\n",
       "1      50.9375"
      ]
     },
     "execution_count": 124,
     "metadata": {},
     "output_type": "execute_result"
    }
   ],
   "source": [
    "print('Distribution of defferent classes in training data:(%) ')\n",
    "y = pd.DataFrame(y_train)\n",
    "a = pd.DataFrame(((y.groupby('Class')['Class'].count())/y_train.shape[0])*100)\n",
    "a"
   ]
  },
  {
   "cell_type": "code",
   "execution_count": 125,
   "id": "cleared-morris",
   "metadata": {},
   "outputs": [
    {
     "name": "stdout",
     "output_type": "stream",
     "text": [
      "Distribution of defferent classes in test data:(%) \n"
     ]
    },
    {
     "data": {
      "text/html": [
       "<div>\n",
       "<style scoped>\n",
       "    .dataframe tbody tr th:only-of-type {\n",
       "        vertical-align: middle;\n",
       "    }\n",
       "\n",
       "    .dataframe tbody tr th {\n",
       "        vertical-align: top;\n",
       "    }\n",
       "\n",
       "    .dataframe thead th {\n",
       "        text-align: right;\n",
       "    }\n",
       "</style>\n",
       "<table border=\"1\" class=\"dataframe\">\n",
       "  <thead>\n",
       "    <tr style=\"text-align: right;\">\n",
       "      <th></th>\n",
       "      <th>Class</th>\n",
       "    </tr>\n",
       "    <tr>\n",
       "      <th>Class</th>\n",
       "      <th></th>\n",
       "    </tr>\n",
       "  </thead>\n",
       "  <tbody>\n",
       "    <tr>\n",
       "      <th>0</th>\n",
       "      <td>53.75</td>\n",
       "    </tr>\n",
       "    <tr>\n",
       "      <th>1</th>\n",
       "      <td>46.25</td>\n",
       "    </tr>\n",
       "  </tbody>\n",
       "</table>\n",
       "</div>"
      ],
      "text/plain": [
       "       Class\n",
       "Class       \n",
       "0      53.75\n",
       "1      46.25"
      ]
     },
     "execution_count": 125,
     "metadata": {},
     "output_type": "execute_result"
    }
   ],
   "source": [
    "print('Distribution of defferent classes in test data:(%) ')\n",
    "y = pd.DataFrame(y_test)\n",
    "b= pd.DataFrame(((y.groupby('Class')['Class'].count())/y_test.shape[0])*100)\n",
    "b"
   ]
  },
  {
   "cell_type": "markdown",
   "id": "rubber-director",
   "metadata": {},
   "source": [
    "<hr style = \"border-top: 3px solid #000000 ; border-radius: 3px;\">\n",
    "\n",
    "<p style =\" direction:rtl;text-align:right;\">\n",
    "\n",
    "داده ها را با همان نسبت مطرح شده به تست و آموزش تقسیم می کنیم و توزیع آنها نسبتا برابر است.</p>\n",
    "\n",
    "<hr style = \"border-top: 3px solid #000000 ; border-radius: 3px;\">\n"
   ]
  },
  {
   "cell_type": "markdown",
   "id": "mechanical-renaissance",
   "metadata": {},
   "source": [
    "## f)"
   ]
  },
  {
   "cell_type": "code",
   "execution_count": 131,
   "id": "primary-correction",
   "metadata": {},
   "outputs": [],
   "source": [
    "from sklearn.neural_network import MLPClassifier"
   ]
  },
  {
   "cell_type": "code",
   "execution_count": 132,
   "id": "continent-slide",
   "metadata": {},
   "outputs": [],
   "source": [
    "nn = MLPClassifier(max_iter=500, hidden_layer_sizes=(100,100,100),activation='relu').fit(X_train, y_train)"
   ]
  },
  {
   "cell_type": "markdown",
   "id": "tired-pressing",
   "metadata": {},
   "source": [
    "<hr style = \"border-top: 3px solid #000000 ; border-radius: 3px;\">\n",
    "\n",
    "<p style =\" direction:rtl;text-align:right;\">\n",
    "یک شبکه عصبی به بیشینه تغداد تکرار 500 برای رسیدن به همگرایی و سه لایه هر کدام با 100 نورون و تابع فعالسازی رلو ساخته و به داده های آموزش train میکنیم. \n",
    "</p>\n",
    "\n",
    "<hr style = \"border-top: 3px solid #000000 ; border-radius: 3px;\">\n"
   ]
  },
  {
   "cell_type": "markdown",
   "id": "systematic-jackson",
   "metadata": {},
   "source": [
    "## g)"
   ]
  },
  {
   "cell_type": "code",
   "execution_count": 133,
   "id": "young-kentucky",
   "metadata": {},
   "outputs": [],
   "source": [
    "from sklearn.metrics import classification_report, confusion_matrix, accuracy_score"
   ]
  },
  {
   "cell_type": "code",
   "execution_count": 134,
   "id": "rotary-liabilities",
   "metadata": {},
   "outputs": [],
   "source": [
    "y_predicted = nn.predict(X_test)"
   ]
  },
  {
   "cell_type": "code",
   "execution_count": 135,
   "id": "eligible-proposition",
   "metadata": {},
   "outputs": [
    {
     "name": "stdout",
     "output_type": "stream",
     "text": [
      "[+] accuracy score\n",
      "\n",
      "0.825\n",
      "[+] confusion matrix\n",
      "\n",
      "[[34  9]\n",
      " [ 5 32]]\n",
      "\n",
      "[+] classification report\n",
      "\n",
      "              precision    recall  f1-score   support\n",
      "\n",
      "           0       0.87      0.79      0.83        43\n",
      "           1       0.78      0.86      0.82        37\n",
      "\n",
      "    accuracy                           0.82        80\n",
      "   macro avg       0.83      0.83      0.82        80\n",
      "weighted avg       0.83      0.82      0.83        80\n",
      "\n"
     ]
    }
   ],
   "source": [
    "print(\"[+] accuracy score\\n\")\n",
    "print(accuracy_score(y_test, y_predicted))\n",
    "print(\"[+] confusion matrix\\n\")\n",
    "print(confusion_matrix(y_test, y_predicted))\n",
    "print(\"\\n[+] classification report\\n\")\n",
    "print(classification_report(y_test, y_predicted))"
   ]
  },
  {
   "cell_type": "markdown",
   "id": "controlled-desert",
   "metadata": {},
   "source": [
    "<hr style = \"border-top: 3px solid #000000 ; border-radius: 3px;\">\n",
    "\n",
    "<p style =\" direction:rtl;text-align:right;\">\n",
    "ابتدا داده های ورودی را به مدل می دهیم تا تخمین بزند و سپس دقت را به شیوه های مختلف به دست می آوریم.</p>\n",
    "این دقت 0.825 است و تعداد true ها در ماتریس بیشتر از false هاست.\n",
    "<hr style = \"border-top: 3px solid #000000 ; border-radius: 3px;\">\n"
   ]
  },
  {
   "cell_type": "markdown",
   "id": "exterior-confidence",
   "metadata": {},
   "source": [
    "## h)"
   ]
  },
  {
   "cell_type": "code",
   "execution_count": 138,
   "id": "sought-journalist",
   "metadata": {},
   "outputs": [],
   "source": [
    "# from utls import plot_prediction\n",
    "# import utls as utl\n",
    "\n",
    "def plot_prediction(model, X, y):\n",
    "    x_min, x_max = X.T.iloc[0, :].min() - 1, X.T.iloc[0, :].max() + 1\n",
    "    y_min, y_max = X.T.iloc[1, :].min() - 1, X.T.iloc[1, :].max() + 1\n",
    "    h = 0.01\n",
    "    \n",
    "    xx, yy = np.meshgrid(np.arange(x_min, x_max, h), np.arange(y_min, y_max, h))\n",
    "\n",
    "    Z = model(np.c_[xx.ravel(), yy.ravel()])\n",
    "    Z = Z.reshape(xx.shape)\n",
    "\n",
    "    plt.contourf(xx, yy, Z, cmap=plt.cm.Pastel1)\n",
    "    plt.ylabel('X1')\n",
    "    plt.xlabel('X2')\n",
    "    plt.scatter(X.T.iloc[0, :], X.T.iloc[1, :], c=y.iloc[:], cmap=plt.cm.Spectral)\n",
    "\n"
   ]
  },
  {
   "cell_type": "code",
   "execution_count": 140,
   "id": "modified-natural",
   "metadata": {
    "scrolled": false
   },
   "outputs": [
    {
     "data": {
      "image/png": "[encoded data removed]",
      "text/plain": [
       "<Figure size 1800x1800 with 1 Axes>"
      ]
     },
     "metadata": {
      "needs_background": "light"
     },
     "output_type": "display_data"
    }
   ],
   "source": [
    "fig, axes = plt.subplots(1,1,figsize=(25,25))\n",
    "\n",
    "plot_prediction(lambda X_train: nn.predict(X_train), X_train, y_train)"
   ]
  },
  {
   "cell_type": "markdown",
   "id": "biological-express",
   "metadata": {},
   "source": [
    "<hr style = \"border-top: 3px solid #000000 ; border-radius: 3px;\">\n",
    "\n",
    "<p style =\" direction:rtl;text-align:right;\">\n",
    "به کمک تابع عمراه سوال، داده ها و کلاستر آنها را در کنار هم رسم کرده ایم.\n",
    "آنچه دیده می شود گاهی داده های قرمز در کلاستر مربوط به رنگ بنفش قرار دارند و اینها موجب خطاست.\n",
    "\n",
    "هر رنگ پس زمینه پلات فوق یک کلاستر را نمایش می دهد.\n",
    "اکثر داده های موحود در رنگ کرم بنفش هستند یعنی مربوط به یک خوشه هستند و همینطور برای رنگ صورتی.\n",
    "</p>\n",
    "\n",
    "<hr style = \"border-top: 3px solid #000000 ; border-radius: 3px;\">\n"
   ]
  },
  {
   "cell_type": "markdown",
   "id": "considered-uganda",
   "metadata": {},
   "source": [
    "## i)"
   ]
  },
  {
   "cell_type": "markdown",
   "id": "sealed-burner",
   "metadata": {},
   "source": [
    "### Activation Function :"
   ]
  },
  {
   "cell_type": "code",
   "execution_count": 145,
   "id": "immediate-driver",
   "metadata": {},
   "outputs": [
    {
     "name": "stdout",
     "output_type": "stream",
     "text": [
      "[+] accuracy score = \n",
      "0.8375\n"
     ]
    }
   ],
   "source": [
    "# activation = relu  \n",
    "\n",
    "nn0 = MLPClassifier(max_iter=500, hidden_layer_sizes=(100,100,100),activation='relu').fit(X_train, y_train)\n",
    "y_predicted0 = nn0.predict(X_test)\n",
    "print(\"[+] accuracy score = \")\n",
    "print(accuracy_score(y_test, y_predicted0))"
   ]
  },
  {
   "cell_type": "code",
   "execution_count": 146,
   "id": "certified-holmes",
   "metadata": {},
   "outputs": [
    {
     "name": "stdout",
     "output_type": "stream",
     "text": [
      "[+] accuracy score = \n",
      "0.5125\n"
     ]
    }
   ],
   "source": [
    "# activation = identity  \n",
    "nn1 = MLPClassifier(max_iter=500, hidden_layer_sizes=(100,100,100),activation='identity').fit(X_train, y_train)\n",
    "y_predicted1 = nn1.predict(X_test)\n",
    "print(\"[+] accuracy score = \")\n",
    "print(accuracy_score(y_test, y_predicted1))"
   ]
  },
  {
   "cell_type": "code",
   "execution_count": 147,
   "id": "cathedral-airplane",
   "metadata": {},
   "outputs": [
    {
     "name": "stdout",
     "output_type": "stream",
     "text": [
      "[+] accuracy score = \n",
      "0.4625\n"
     ]
    }
   ],
   "source": [
    "# activation = logistic\n",
    "nn2 = MLPClassifier(max_iter=500, hidden_layer_sizes=(100,100,100),activation='logistic').fit(X_train, y_train)\n",
    "y_predicted2 = nn2.predict(X_test)\n",
    "print(\"[+] accuracy score = \")\n",
    "print(accuracy_score(y_test, y_predicted2))"
   ]
  },
  {
   "cell_type": "code",
   "execution_count": 148,
   "id": "split-murray",
   "metadata": {
    "scrolled": true
   },
   "outputs": [
    {
     "name": "stdout",
     "output_type": "stream",
     "text": [
      "[+] accuracy score = \n",
      "0.5375\n"
     ]
    }
   ],
   "source": [
    "# activation = tanh\n",
    "nn3 = MLPClassifier(max_iter=500, hidden_layer_sizes=(100,100,100),activation='tanh').fit(X_train, y_train)\n",
    "y_predicted3 = nn3.predict(X_test)\n",
    "print(\"[+] accuracy score = \")\n",
    "print(accuracy_score(y_test, y_predicted3))"
   ]
  },
  {
   "cell_type": "markdown",
   "id": "dependent-latin",
   "metadata": {},
   "source": [
    "<hr style = \"border-top: 3px solid #000000 ; border-radius: 3px;\">\n",
    "\n",
    "<p style =\" direction:rtl;text-align:right;\">\n",
    "بهترین نتیجه با رلو حاصل می شود پس آن را نگه میداریم.\n",
    "</p>\n",
    "\n",
    "<hr style = \"border-top: 3px solid #000000 ; border-radius: 3px;\">\n"
   ]
  },
  {
   "cell_type": "markdown",
   "id": "democratic-breach",
   "metadata": {},
   "source": [
    "### Max Iteration :"
   ]
  },
  {
   "cell_type": "code",
   "execution_count": 149,
   "id": "green-governor",
   "metadata": {
    "scrolled": true
   },
   "outputs": [
    {
     "name": "stderr",
     "output_type": "stream",
     "text": [
      "F:\\Anaconda\\envs\\DM\\lib\\site-packages\\sklearn\\neural_network\\_multilayer_perceptron.py:614: ConvergenceWarning: Stochastic Optimizer: Maximum iterations (20) reached and the optimization hasn't converged yet.\n",
      "  warnings.warn(\n",
      "F:\\Anaconda\\envs\\DM\\lib\\site-packages\\sklearn\\neural_network\\_multilayer_perceptron.py:614: ConvergenceWarning: Stochastic Optimizer: Maximum iterations (50) reached and the optimization hasn't converged yet.\n",
      "  warnings.warn(\n",
      "F:\\Anaconda\\envs\\DM\\lib\\site-packages\\sklearn\\neural_network\\_multilayer_perceptron.py:614: ConvergenceWarning: Stochastic Optimizer: Maximum iterations (80) reached and the optimization hasn't converged yet.\n",
      "  warnings.warn(\n",
      "F:\\Anaconda\\envs\\DM\\lib\\site-packages\\sklearn\\neural_network\\_multilayer_perceptron.py:614: ConvergenceWarning: Stochastic Optimizer: Maximum iterations (110) reached and the optimization hasn't converged yet.\n",
      "  warnings.warn(\n",
      "F:\\Anaconda\\envs\\DM\\lib\\site-packages\\sklearn\\neural_network\\_multilayer_perceptron.py:614: ConvergenceWarning: Stochastic Optimizer: Maximum iterations (140) reached and the optimization hasn't converged yet.\n",
      "  warnings.warn(\n",
      "F:\\Anaconda\\envs\\DM\\lib\\site-packages\\sklearn\\neural_network\\_multilayer_perceptron.py:614: ConvergenceWarning: Stochastic Optimizer: Maximum iterations (170) reached and the optimization hasn't converged yet.\n",
      "  warnings.warn(\n",
      "F:\\Anaconda\\envs\\DM\\lib\\site-packages\\sklearn\\neural_network\\_multilayer_perceptron.py:614: ConvergenceWarning: Stochastic Optimizer: Maximum iterations (200) reached and the optimization hasn't converged yet.\n",
      "  warnings.warn(\n",
      "F:\\Anaconda\\envs\\DM\\lib\\site-packages\\sklearn\\neural_network\\_multilayer_perceptron.py:614: ConvergenceWarning: Stochastic Optimizer: Maximum iterations (230) reached and the optimization hasn't converged yet.\n",
      "  warnings.warn(\n",
      "F:\\Anaconda\\envs\\DM\\lib\\site-packages\\sklearn\\neural_network\\_multilayer_perceptron.py:614: ConvergenceWarning: Stochastic Optimizer: Maximum iterations (260) reached and the optimization hasn't converged yet.\n",
      "  warnings.warn(\n",
      "F:\\Anaconda\\envs\\DM\\lib\\site-packages\\sklearn\\neural_network\\_multilayer_perceptron.py:614: ConvergenceWarning: Stochastic Optimizer: Maximum iterations (290) reached and the optimization hasn't converged yet.\n",
      "  warnings.warn(\n",
      "F:\\Anaconda\\envs\\DM\\lib\\site-packages\\sklearn\\neural_network\\_multilayer_perceptron.py:614: ConvergenceWarning: Stochastic Optimizer: Maximum iterations (320) reached and the optimization hasn't converged yet.\n",
      "  warnings.warn(\n",
      "F:\\Anaconda\\envs\\DM\\lib\\site-packages\\sklearn\\neural_network\\_multilayer_perceptron.py:614: ConvergenceWarning: Stochastic Optimizer: Maximum iterations (380) reached and the optimization hasn't converged yet.\n",
      "  warnings.warn(\n",
      "F:\\Anaconda\\envs\\DM\\lib\\site-packages\\sklearn\\neural_network\\_multilayer_perceptron.py:614: ConvergenceWarning: Stochastic Optimizer: Maximum iterations (410) reached and the optimization hasn't converged yet.\n",
      "  warnings.warn(\n",
      "F:\\Anaconda\\envs\\DM\\lib\\site-packages\\sklearn\\neural_network\\_multilayer_perceptron.py:614: ConvergenceWarning: Stochastic Optimizer: Maximum iterations (470) reached and the optimization hasn't converged yet.\n",
      "  warnings.warn(\n",
      "F:\\Anaconda\\envs\\DM\\lib\\site-packages\\sklearn\\neural_network\\_multilayer_perceptron.py:614: ConvergenceWarning: Stochastic Optimizer: Maximum iterations (650) reached and the optimization hasn't converged yet.\n",
      "  warnings.warn(\n"
     ]
    }
   ],
   "source": [
    "mis = []\n",
    "max = 0\n",
    "maxmi=0\n",
    "for mi in range(20,1000,30):\n",
    "    nnmi = MLPClassifier(max_iter=mi, hidden_layer_sizes=(100,100,100),activation='relu').fit(X_train, y_train)\n",
    "    y_predictedmi = nnmi.predict(X_test)\n",
    "    prec=accuracy_score(y_test, y_predictedmi)\n",
    "    mis.append(prec)\n",
    "    if prec > max :\n",
    "        max=prec\n",
    "        maxmi=mi\n",
    "#     print(\"[+] accuracy score = \")\n",
    "#     print(accuracy_score(y_test, y_predictedmi))"
   ]
  },
  {
   "cell_type": "code",
   "execution_count": 150,
   "id": "brief-satin",
   "metadata": {
    "scrolled": true
   },
   "outputs": [
    {
     "data": {
      "text/plain": [
       "[<matplotlib.lines.Line2D at 0x1f0020c3be0>]"
      ]
     },
     "execution_count": 150,
     "metadata": {},
     "output_type": "execute_result"
    },
    {
     "data": {
      "image/png": "[encoded data removed]",
      "text/plain": [
       "<Figure size 432x288 with 1 Axes>"
      ]
     },
     "metadata": {
      "needs_background": "light"
     },
     "output_type": "display_data"
    }
   ],
   "source": [
    "plt.plot(range(20,1000,30),mis)"
   ]
  },
  {
   "cell_type": "code",
   "execution_count": 151,
   "id": "subject-closure",
   "metadata": {},
   "outputs": [
    {
     "name": "stdout",
     "output_type": "stream",
     "text": [
      "Using ReLU Best Accuracy happened for max_iter =  470   ->   0.8875\n"
     ]
    }
   ],
   "source": [
    "print('Using ReLU Best Accuracy happened for max_iter = ',maxmi,'  ->  ',max)"
   ]
  },
  {
   "attachments": {},
   "cell_type": "markdown",
   "id": "respiratory-coral",
   "metadata": {},
   "source": [
    "<hr style = \"border-top: 3px solid #000000 ; border-radius: 3px;\">\n",
    "\n",
    "<p style =\" direction:rtl;text-align:right;\">\n",
    "بهترین عدد برای 470 حاصل می شود پس نگه میداریم</p>\n",
    "\n",
    "<hr style = \"border-top: 3px solid #000000 ; border-radius: 3px;\">\n"
   ]
  },
  {
   "cell_type": "markdown",
   "id": "occupational-danish",
   "metadata": {},
   "source": [
    "### Hidden Layer Sizes(#layers) :"
   ]
  },
  {
   "cell_type": "code",
   "execution_count": 152,
   "id": "brief-router",
   "metadata": {},
   "outputs": [
    {
     "name": "stdout",
     "output_type": "stream",
     "text": [
      "[+] accuracy score = \n",
      "0.5625\n"
     ]
    }
   ],
   "source": [
    "nnlyr = MLPClassifier(max_iter=470, hidden_layer_sizes=(100,),activation='relu').fit(X_train, y_train)\n",
    "y_predictedlyr = nnlyr.predict(X_test)\n",
    "print(\"[+] accuracy score = \")\n",
    "print(accuracy_score(y_test, y_predictedlyr))"
   ]
  },
  {
   "cell_type": "code",
   "execution_count": 153,
   "id": "understanding-prisoner",
   "metadata": {},
   "outputs": [
    {
     "name": "stdout",
     "output_type": "stream",
     "text": [
      "[+] accuracy score = \n",
      "0.7875\n"
     ]
    },
    {
     "name": "stderr",
     "output_type": "stream",
     "text": [
      "F:\\Anaconda\\envs\\DM\\lib\\site-packages\\sklearn\\neural_network\\_multilayer_perceptron.py:614: ConvergenceWarning: Stochastic Optimizer: Maximum iterations (470) reached and the optimization hasn't converged yet.\n",
      "  warnings.warn(\n"
     ]
    }
   ],
   "source": [
    "nnlyr = MLPClassifier(max_iter=470, hidden_layer_sizes=(100,100,),activation='relu').fit(X_train, y_train)\n",
    "y_predictedlyr = nnlyr.predict(X_test)\n",
    "print(\"[+] accuracy score = \")\n",
    "print(accuracy_score(y_test, y_predictedlyr))"
   ]
  },
  {
   "cell_type": "code",
   "execution_count": 154,
   "id": "invalid-shirt",
   "metadata": {},
   "outputs": [
    {
     "name": "stdout",
     "output_type": "stream",
     "text": [
      "[+] accuracy score = \n",
      "0.825\n"
     ]
    },
    {
     "name": "stderr",
     "output_type": "stream",
     "text": [
      "F:\\Anaconda\\envs\\DM\\lib\\site-packages\\sklearn\\neural_network\\_multilayer_perceptron.py:614: ConvergenceWarning: Stochastic Optimizer: Maximum iterations (470) reached and the optimization hasn't converged yet.\n",
      "  warnings.warn(\n"
     ]
    }
   ],
   "source": [
    "nnlyr = MLPClassifier(max_iter=470, hidden_layer_sizes=(100,100,100),activation='relu').fit(X_train, y_train)\n",
    "y_predictedlyr = nnlyr.predict(X_test)\n",
    "print(\"[+] accuracy score = \")\n",
    "print(accuracy_score(y_test, y_predictedlyr))"
   ]
  },
  {
   "cell_type": "code",
   "execution_count": 155,
   "id": "irish-student",
   "metadata": {},
   "outputs": [
    {
     "name": "stdout",
     "output_type": "stream",
     "text": [
      "[+] accuracy score = \n",
      "0.825\n"
     ]
    }
   ],
   "source": [
    "#best yet\n",
    "nnlyr = MLPClassifier(max_iter=470, hidden_layer_sizes=(100,100,100,100),activation='relu').fit(X_train, y_train)\n",
    "y_predictedlyr = nnlyr.predict(X_test)\n",
    "print(\"[+] accuracy score = \")\n",
    "print(accuracy_score(y_test, y_predictedlyr))"
   ]
  },
  {
   "cell_type": "code",
   "execution_count": 156,
   "id": "confused-schema",
   "metadata": {},
   "outputs": [
    {
     "name": "stdout",
     "output_type": "stream",
     "text": [
      "[+] accuracy score = \n",
      "0.7875\n"
     ]
    }
   ],
   "source": [
    "\n",
    "nnlyr = MLPClassifier(max_iter=470, hidden_layer_sizes=(100,100,100,100,100),activation='relu').fit(X_train, y_train)\n",
    "y_predictedlyr = nnlyr.predict(X_test)\n",
    "print(\"[+] accuracy score = \")\n",
    "print(accuracy_score(y_test, y_predictedlyr))"
   ]
  },
  {
   "cell_type": "code",
   "execution_count": 157,
   "id": "present-modeling",
   "metadata": {},
   "outputs": [
    {
     "name": "stdout",
     "output_type": "stream",
     "text": [
      "[+] accuracy score = \n",
      "0.8375\n"
     ]
    }
   ],
   "source": [
    "nnlyr = MLPClassifier(max_iter=470, hidden_layer_sizes=(100,100,100,100,100,100),activation='relu').fit(X_train, y_train)\n",
    "y_predictedlyr = nnlyr.predict(X_test)\n",
    "print(\"[+] accuracy score = \")\n",
    "print(accuracy_score(y_test, y_predictedlyr))"
   ]
  },
  {
   "cell_type": "code",
   "execution_count": 158,
   "id": "indie-public",
   "metadata": {
    "scrolled": true
   },
   "outputs": [
    {
     "name": "stdout",
     "output_type": "stream",
     "text": [
      "[+] accuracy score = \n",
      "0.8375\n"
     ]
    }
   ],
   "source": [
    "nnlyr = MLPClassifier(max_iter=470, hidden_layer_sizes=(100,100,100,100,100,100,100),activation='relu').fit(X_train, y_train)\n",
    "y_predictedlyr = nnlyr.predict(X_test)\n",
    "print(\"[+] accuracy score = \")\n",
    "print(accuracy_score(y_test, y_predictedlyr))"
   ]
  },
  {
   "cell_type": "markdown",
   "id": "usual-nirvana",
   "metadata": {},
   "source": [
    "<hr style = \"border-top: 3px solid #000000 ; border-radius: 3px;\">\n",
    "\n",
    "<p style =\" direction:rtl;text-align:right;\">\n",
    "بهترین نتیجه با 6لایه حاصل می شود پس آن را نگه میداریم.\n",
    "</p>\n",
    "\n",
    "<hr style = \"border-top: 3px solid #000000 ; border-radius: 3px;\">\n"
   ]
  },
  {
   "cell_type": "markdown",
   "id": "fiscal-boutique",
   "metadata": {},
   "source": [
    "### Hidden Layer Size (#neurons in each layer)"
   ]
  },
  {
   "cell_type": "code",
   "execution_count": 160,
   "id": "chubby-description",
   "metadata": {
    "scrolled": true
   },
   "outputs": [],
   "source": [
    "nns = []\n",
    "nmax = 0\n",
    "nmaxmi=0\n",
    "for nnc in range(10,1000,100):\n",
    "    nnnn = MLPClassifier(max_iter=470, hidden_layer_sizes=(nnc,nnc,nnc,nnc,nnc,nnc),activation='relu').fit(X_train, y_train)\n",
    "    y_predictednn = nnnn.predict(X_test)\n",
    "    prec=accuracy_score(y_test, y_predictednn)\n",
    "    nns.append(prec)\n",
    "    if prec > nmax :\n",
    "        nmax=prec\n",
    "        nmaxmi=mi\n",
    "\n"
   ]
  },
  {
   "cell_type": "code",
   "execution_count": 163,
   "id": "nearby-hartford",
   "metadata": {},
   "outputs": [
    {
     "data": {
      "text/plain": [
       "[<matplotlib.lines.Line2D at 0x1f002136040>]"
      ]
     },
     "execution_count": 163,
     "metadata": {},
     "output_type": "execute_result"
    },
    {
     "data": {
      "image/png": "[encoded data removed]",
      "text/plain": [
       "<Figure size 432x288 with 1 Axes>"
      ]
     },
     "metadata": {
      "needs_background": "light"
     },
     "output_type": "display_data"
    }
   ],
   "source": [
    "plt.plot(nns)"
   ]
  },
  {
   "cell_type": "code",
   "execution_count": 164,
   "id": "danish-royal",
   "metadata": {
    "scrolled": true
   },
   "outputs": [
    {
     "name": "stdout",
     "output_type": "stream",
     "text": [
      "MAX :  0.85  ->  980\n"
     ]
    }
   ],
   "source": [
    "print('MAX : ',nmax ,' -> ',nmaxmi)"
   ]
  },
  {
   "cell_type": "markdown",
   "id": "statistical-collar",
   "metadata": {},
   "source": [
    "# BEST :\n"
   ]
  },
  {
   "cell_type": "code",
   "execution_count": 174,
   "id": "psychological-strength",
   "metadata": {},
   "outputs": [],
   "source": [
    "final = MLPClassifier(max_iter=470, hidden_layer_sizes=(980,980,980,980,980,980),activation='relu').fit(X_train, y_train)\n",
    "y_predictedfinal = final.predict(X_test)\n",
    "prec=accuracy_score(y_test, y_predictedfinal)"
   ]
  },
  {
   "cell_type": "code",
   "execution_count": 175,
   "id": "listed-crash",
   "metadata": {},
   "outputs": [
    {
     "name": "stdout",
     "output_type": "stream",
     "text": [
      "final precision = 0.85\n"
     ]
    }
   ],
   "source": [
    "print('final precision =',prec)"
   ]
  },
  {
   "cell_type": "markdown",
   "id": "rough-percentage",
   "metadata": {},
   "source": [
    "<hr style = \"border-top: 3px solid #000000 ; border-radius: 3px;\">\n",
    "\n",
    "<p style =\" direction:rtl;text-align:right;\">\n",
    "به نظر می زسد تابع فعالسازی بیشترین اثر را دارد.\n",
    "البته تعداد لایه ها و نرون ها هم ثطعا اثر به سزایی دارد اما بیشترین تغییر به ازای تئابع مختلف حاصل شد.</p>\n",
    "همانطور که در شکل دیده می شود خوشه بندی داده ها با کیفیت قابل قبولی رخ داده است.\n",
    "<hr style = \"border-top: 3px solid #000000 ; border-radius: 3px;\">\n"
   ]
  },
  {
   "cell_type": "code",
   "execution_count": 176,
   "id": "smart-headquarters",
   "metadata": {},
   "outputs": [
    {
     "data": {
      "image/png": "[encoded data removed]",
      "text/plain": [
       "<Figure size 1800x1800 with 1 Axes>"
      ]
     },
     "metadata": {
      "needs_background": "light"
     },
     "output_type": "display_data"
    }
   ],
   "source": [
    "fig, axes = plt.subplots(1,1,figsize=(25,25))\n",
    "\n",
    "plot_prediction(lambda X_train: final.predict(X_train), X_train, y_train)"
   ]
  }
 ],
 "metadata": {
  "kernelspec": {
   "display_name": "Python 3",
   "language": "python",
   "name": "python3"
  },
  "language_info": {
   "codemirror_mode": {
    "name": "ipython",
    "version": 3
   },
   "file_extension": ".py",
   "mimetype": "text/x-python",
   "name": "python",
   "nbconvert_exporter": "python",
   "pygments_lexer": "ipython3",
   "version": "3.8.8"
  }
 },
 "nbformat": 4,
 "nbformat_minor": 5
}
