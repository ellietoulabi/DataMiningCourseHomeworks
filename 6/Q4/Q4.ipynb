{
 "cells": [
  {
   "cell_type": "markdown",
   "metadata": {
    "id": "4h22RNouo64V"
   },
   "source": [
    "## **4. Association Rule**"
   ]
  },
  {
   "cell_type": "markdown",
   "metadata": {
    "id": "0gkt2IuspRC9"
   },
   "source": [
    "### **a)**"
   ]
  },
  {
   "cell_type": "code",
   "execution_count": null,
   "metadata": {
    "colab": {
     "base_uri": "https://localhost:8080/"
    },
    "id": "OQMxmsgupPhT",
    "outputId": "4ff3cf66-5563-4156-c32d-4319e425917d",
    "scrolled": true
   },
   "outputs": [],
   "source": [
    "!pip install mlxtend  "
   ]
  },
  {
   "cell_type": "code",
   "execution_count": null,
   "metadata": {
    "colab": {
     "base_uri": "https://localhost:8080/"
    },
    "id": "IF9X170Qbxvw",
    "outputId": "eb601adf-3a9d-4333-e752-6f5544991f6c"
   },
   "outputs": [],
   "source": [
    "!pip install --upgrade mlxtend"
   ]
  },
  {
   "cell_type": "code",
   "execution_count": 3,
   "metadata": {
    "id": "iB4BI6ZkomLj"
   },
   "outputs": [],
   "source": [
    "import mlxtend"
   ]
  },
  {
   "cell_type": "markdown",
   "metadata": {
    "id": "-4w42fQdpYt4"
   },
   "source": [
    "### **b)**"
   ]
  },
  {
   "cell_type": "code",
   "execution_count": 4,
   "metadata": {
    "id": "lfh8GozopkbZ"
   },
   "outputs": [],
   "source": [
    "import pandas as pd\n",
    "from mlxtend.preprocessing import TransactionEncoder\n",
    "from sklearn.preprocessing import MultiLabelBinarizer"
   ]
  },
  {
   "cell_type": "code",
   "execution_count": 5,
   "metadata": {
    "id": "DW5tj_wOpahn"
   },
   "outputs": [],
   "source": [
    "transactions = pd.read_csv('Basket.csv',header=None, sep='\\n',names=['col'])"
   ]
  },
  {
   "cell_type": "code",
   "execution_count": 6,
   "metadata": {
    "colab": {
     "base_uri": "https://localhost:8080/",
     "height": 139
    },
    "id": "PTdHcoi6qnZa",
    "outputId": "b3a18996-13c7-4f7b-8da4-0b450771bb50"
   },
   "outputs": [
    {
     "data": {
      "text/html": [
       "<div>\n",
       "<style scoped>\n",
       "    .dataframe tbody tr th:only-of-type {\n",
       "        vertical-align: middle;\n",
       "    }\n",
       "\n",
       "    .dataframe tbody tr th {\n",
       "        vertical-align: top;\n",
       "    }\n",
       "\n",
       "    .dataframe thead th {\n",
       "        text-align: right;\n",
       "    }\n",
       "</style>\n",
       "<table border=\"1\" class=\"dataframe\">\n",
       "  <thead>\n",
       "    <tr style=\"text-align: right;\">\n",
       "      <th></th>\n",
       "      <th>col</th>\n",
       "    </tr>\n",
       "  </thead>\n",
       "  <tbody>\n",
       "    <tr>\n",
       "      <th>0</th>\n",
       "      <td>Lassi,Coffee Powder,Butter,Yougurt,Ghee,Cheese,</td>\n",
       "    </tr>\n",
       "    <tr>\n",
       "      <th>1</th>\n",
       "      <td>Ghee,Coffee Powder,</td>\n",
       "    </tr>\n",
       "    <tr>\n",
       "      <th>2</th>\n",
       "      <td>Lassi,Tea Powder,Butter,Cheese,</td>\n",
       "    </tr>\n",
       "  </tbody>\n",
       "</table>\n",
       "</div>"
      ],
      "text/plain": [
       "                                               col\n",
       "0  Lassi,Coffee Powder,Butter,Yougurt,Ghee,Cheese,\n",
       "1                              Ghee,Coffee Powder,\n",
       "2                  Lassi,Tea Powder,Butter,Cheese,"
      ]
     },
     "execution_count": 6,
     "metadata": {},
     "output_type": "execute_result"
    }
   ],
   "source": [
    "transactions.head(3)"
   ]
  },
  {
   "cell_type": "markdown",
   "metadata": {},
   "source": [
    "<hr style = \"border-top: 3px solid #000000 ; border-radius: 3px;\">\n",
    "\n",
    "<p style =\" direction:rtl;text-align:right;\">\n",
    "ابتدا فایل cvs را به کمک جداکننده \\n و در یک ستون می خوانیم.\n",
    "</p>\n",
    "\n",
    "<hr style = \"border-top: 3px solid #000000 ; border-radius: 3px;\">\n"
   ]
  },
  {
   "cell_type": "code",
   "execution_count": 9,
   "metadata": {
    "colab": {
     "base_uri": "https://localhost:8080/",
     "height": 139
    },
    "id": "pwpCBkCwXjlK",
    "outputId": "a942944f-26d5-4d0f-9890-135c943a48aa",
    "scrolled": true
   },
   "outputs": [
    {
     "data": {
      "text/html": [
       "<div>\n",
       "<style scoped>\n",
       "    .dataframe tbody tr th:only-of-type {\n",
       "        vertical-align: middle;\n",
       "    }\n",
       "\n",
       "    .dataframe tbody tr th {\n",
       "        vertical-align: top;\n",
       "    }\n",
       "\n",
       "    .dataframe thead th {\n",
       "        text-align: right;\n",
       "    }\n",
       "</style>\n",
       "<table border=\"1\" class=\"dataframe\">\n",
       "  <thead>\n",
       "    <tr style=\"text-align: right;\">\n",
       "      <th></th>\n",
       "      <th></th>\n",
       "      <th>Bread</th>\n",
       "      <th>Butter</th>\n",
       "      <th>Cheese</th>\n",
       "      <th>Coffee Powder</th>\n",
       "      <th>Ghee</th>\n",
       "      <th>Lassi</th>\n",
       "      <th>Milk</th>\n",
       "      <th>Panner</th>\n",
       "      <th>Sugar</th>\n",
       "      <th>Sweet</th>\n",
       "      <th>Tea Powder</th>\n",
       "      <th>Yougurt</th>\n",
       "    </tr>\n",
       "  </thead>\n",
       "  <tbody>\n",
       "    <tr>\n",
       "      <th>0</th>\n",
       "      <td>1</td>\n",
       "      <td>0</td>\n",
       "      <td>1</td>\n",
       "      <td>1</td>\n",
       "      <td>1</td>\n",
       "      <td>1</td>\n",
       "      <td>1</td>\n",
       "      <td>0</td>\n",
       "      <td>0</td>\n",
       "      <td>0</td>\n",
       "      <td>0</td>\n",
       "      <td>0</td>\n",
       "      <td>1</td>\n",
       "    </tr>\n",
       "    <tr>\n",
       "      <th>1</th>\n",
       "      <td>1</td>\n",
       "      <td>0</td>\n",
       "      <td>0</td>\n",
       "      <td>0</td>\n",
       "      <td>1</td>\n",
       "      <td>1</td>\n",
       "      <td>0</td>\n",
       "      <td>0</td>\n",
       "      <td>0</td>\n",
       "      <td>0</td>\n",
       "      <td>0</td>\n",
       "      <td>0</td>\n",
       "      <td>0</td>\n",
       "    </tr>\n",
       "    <tr>\n",
       "      <th>2</th>\n",
       "      <td>1</td>\n",
       "      <td>0</td>\n",
       "      <td>1</td>\n",
       "      <td>1</td>\n",
       "      <td>0</td>\n",
       "      <td>0</td>\n",
       "      <td>1</td>\n",
       "      <td>0</td>\n",
       "      <td>0</td>\n",
       "      <td>0</td>\n",
       "      <td>0</td>\n",
       "      <td>1</td>\n",
       "      <td>0</td>\n",
       "    </tr>\n",
       "  </tbody>\n",
       "</table>\n",
       "</div>"
      ],
      "text/plain": [
       "      Bread  Butter  Cheese  Coffee Powder  Ghee  Lassi  Milk  Panner  Sugar  \\\n",
       "0  1      0       1       1              1     1      1     0       0      0   \n",
       "1  1      0       0       0              1     1      0     0       0      0   \n",
       "2  1      0       1       1              0     0      1     0       0      0   \n",
       "\n",
       "   Sweet  Tea Powder  Yougurt  \n",
       "0      0           0        1  \n",
       "1      0           0        0  \n",
       "2      0           1        0  "
      ]
     },
     "execution_count": 9,
     "metadata": {},
     "output_type": "execute_result"
    }
   ],
   "source": [
    "dataset = transactions['col'].apply(lambda dataset: dataset.split(','))\n",
    "dataset = list(dataset)\n",
    "te = MultiLabelBinarizer()\n",
    "te_ary = te.fit(dataset).transform(dataset)\n",
    "df = pd.DataFrame(te_ary, columns=te.classes_)\n",
    "df.head(3)"
   ]
  },
  {
   "cell_type": "markdown",
   "metadata": {},
   "source": [
    "<hr style = \"border-top: 3px solid #000000 ; border-radius: 3px;\">\n",
    "\n",
    "<p style =\" direction:rtl;text-align:right;\">\n",
    " \n",
    "    .سپس اعضای هر سطر را به کمک , ها جدا کرده و به کمک کلاس فوق آنها را به یک دیتاست باینری تبدیل میکنیم که 1 نشانه حضور کالا در تراکنش و 0 نشانه عدم حضور است\n",
    "</p>\n",
    "\n",
    "<hr style = \"border-top: 3px solid #000000 ; border-radius: 3px;\">\n"
   ]
  },
  {
   "cell_type": "markdown",
   "metadata": {
    "id": "rygW1uiZwA-r"
   },
   "source": [
    "### **C)**"
   ]
  },
  {
   "cell_type": "code",
   "execution_count": 10,
   "metadata": {
    "id": "wTbxOpBiv7bU"
   },
   "outputs": [],
   "source": [
    "from mlxtend.frequent_patterns import apriori\n",
    "from mlxtend.frequent_patterns import fpgrowth"
   ]
  },
  {
   "cell_type": "code",
   "execution_count": 13,
   "metadata": {
    "colab": {
     "base_uri": "https://localhost:8080/",
     "height": 412
    },
    "id": "v67rsUMVvvS1",
    "outputId": "702a1de5-3353-49bc-fd41-4af0baecbc38",
    "scrolled": false
   },
   "outputs": [
    {
     "data": {
      "text/html": [
       "<div>\n",
       "<style scoped>\n",
       "    .dataframe tbody tr th:only-of-type {\n",
       "        vertical-align: middle;\n",
       "    }\n",
       "\n",
       "    .dataframe tbody tr th {\n",
       "        vertical-align: top;\n",
       "    }\n",
       "\n",
       "    .dataframe thead th {\n",
       "        text-align: right;\n",
       "    }\n",
       "</style>\n",
       "<table border=\"1\" class=\"dataframe\">\n",
       "  <thead>\n",
       "    <tr style=\"text-align: right;\">\n",
       "      <th></th>\n",
       "      <th>support</th>\n",
       "      <th>itemsets</th>\n",
       "    </tr>\n",
       "  </thead>\n",
       "  <tbody>\n",
       "    <tr>\n",
       "      <th>0</th>\n",
       "      <td>1.000000</td>\n",
       "      <td>()</td>\n",
       "    </tr>\n",
       "    <tr>\n",
       "      <th>1</th>\n",
       "      <td>0.437809</td>\n",
       "      <td>(Bread)</td>\n",
       "    </tr>\n",
       "    <tr>\n",
       "      <th>2</th>\n",
       "      <td>0.437570</td>\n",
       "      <td>(Butter)</td>\n",
       "    </tr>\n",
       "    <tr>\n",
       "      <th>3</th>\n",
       "      <td>0.437171</td>\n",
       "      <td>(Cheese)</td>\n",
       "    </tr>\n",
       "    <tr>\n",
       "      <th>4</th>\n",
       "      <td>0.439805</td>\n",
       "      <td>(Coffee Powder)</td>\n",
       "    </tr>\n",
       "    <tr>\n",
       "      <th>...</th>\n",
       "      <td>...</td>\n",
       "      <td>...</td>\n",
       "    </tr>\n",
       "    <tr>\n",
       "      <th>154</th>\n",
       "      <td>0.199824</td>\n",
       "      <td>(, Sweet, Tea Powder)</td>\n",
       "    </tr>\n",
       "    <tr>\n",
       "      <th>155</th>\n",
       "      <td>0.197829</td>\n",
       "      <td>(, Sweet, Yougurt)</td>\n",
       "    </tr>\n",
       "    <tr>\n",
       "      <th>156</th>\n",
       "      <td>0.198467</td>\n",
       "      <td>(, Tea Powder, Yougurt)</td>\n",
       "    </tr>\n",
       "    <tr>\n",
       "      <th>157</th>\n",
       "      <td>0.100990</td>\n",
       "      <td>(Sweet, Panner, Lassi)</td>\n",
       "    </tr>\n",
       "    <tr>\n",
       "      <th>158</th>\n",
       "      <td>0.100990</td>\n",
       "      <td>(, Sweet, Panner, Lassi)</td>\n",
       "    </tr>\n",
       "  </tbody>\n",
       "</table>\n",
       "<p>159 rows × 2 columns</p>\n",
       "</div>"
      ],
      "text/plain": [
       "      support                  itemsets\n",
       "0    1.000000                        ()\n",
       "1    0.437809                   (Bread)\n",
       "2    0.437570                  (Butter)\n",
       "3    0.437171                  (Cheese)\n",
       "4    0.439805           (Coffee Powder)\n",
       "..        ...                       ...\n",
       "154  0.199824     (, Sweet, Tea Powder)\n",
       "155  0.197829        (, Sweet, Yougurt)\n",
       "156  0.198467   (, Tea Powder, Yougurt)\n",
       "157  0.100990    (Sweet, Panner, Lassi)\n",
       "158  0.100990  (, Sweet, Panner, Lassi)\n",
       "\n",
       "[159 rows x 2 columns]"
      ]
     },
     "execution_count": 13,
     "metadata": {},
     "output_type": "execute_result"
    }
   ],
   "source": [
    "frequent_items =apriori(df, min_support=0.1,use_colnames=True)\n",
    "frequent_items"
   ]
  },
  {
   "cell_type": "code",
   "execution_count": 14,
   "metadata": {},
   "outputs": [
    {
     "name": "stdout",
     "output_type": "stream",
     "text": [
      "72.9 ms ± 4.22 ms per loop (mean ± std. dev. of 10 runs, 100 loops each)\n"
     ]
    }
   ],
   "source": [
    " %timeit -n 100 -r 10  apriori(df, min_support=0.1,use_colnames=True)"
   ]
  },
  {
   "cell_type": "markdown",
   "metadata": {},
   "source": [
    "<hr style = \"border-top: 3px solid #000000 ; border-radius: 3px;\">\n",
    "\n",
    "<p style =\" direction:rtl;text-align:right;\">\n",
    "    در خروجی فوق support  نشان دهنده فرکانس نسبی تکرار یم رابطه استو itemsets اعضای حاضر در آن رابطه را نشان می دهد.\n",
    "    بدیهی است که برای اینکه مطمئن شویم یک رابطه اتفاقی پیدانشده است به دنبال support های بالاتر هستیم.\n",
    "اگر use_columns را false قراردهیم اندیس ستون ها را نمایش می دهد.\n",
    "</p>\n",
    "<p style =\" direction:rtl;text-align:right;\">\n",
    " با برای مثال در نمونه فوق  (Coffee Powder) با فرکانس 0.439805 بین تراکنش ها تکرار شده اند.\n",
    "    از این مجموعه ها میتوان بعدا برای کشف روابط استفاده کرد.\n",
    "</p>\n",
    "\n",
    "<hr style = \"border-top: 3px solid #000000 ; border-radius: 3px;\">\n"
   ]
  },
  {
   "cell_type": "markdown",
   "metadata": {
    "id": "K1ZLF9NIa0fH"
   },
   "source": [
    "### **d)**"
   ]
  },
  {
   "cell_type": "code",
   "execution_count": 15,
   "metadata": {
    "colab": {
     "base_uri": "https://localhost:8080/",
     "height": 412
    },
    "id": "nJsCuFo5az7n",
    "outputId": "67bf06bc-f822-4b7f-af15-6ce3187fba81",
    "scrolled": true
   },
   "outputs": [
    {
     "name": "stdout",
     "output_type": "stream",
     "text": [
      "119 ms ± 3.02 ms per loop (mean ± std. dev. of 10 runs, 100 loops each)\n"
     ]
    }
   ],
   "source": [
    " %timeit -n 100 -r 10   fpgrowth(df,min_support=0.1, use_colnames=True)"
   ]
  },
  {
   "cell_type": "markdown",
   "metadata": {},
   "source": [
    "<hr style = \"border-top: 3px solid #000000 ; border-radius: 3px;\">\n",
    "\n",
    "<p style =\" direction:rtl;text-align:right;\">\n",
    "Apriori: یک الگوریتم مبتنی بر آرایه  است که از تکنیک Join و  Prune و الگوریتم  breadth-first search استفاده می کند. در این روش ابتدا الگوهای حاوی 1 مورد ، سپس 2 مورد ، سپس 3 مورد و غیره تولید می شوند و تولید کاندیداها بسیار کند است. زمان اجرا بسته به تعداد موارد مختلف به طور تصاعدی افزایش می یابد اما قابلیت موازیسازی وجود دارد اما به دلیل وجود تعداد زیادی از کاندیداها ، به فضای حافظه زیادی احتیاج دارد و دیتاست را چندین بار برای تولید مجموعه نامزدها اسکن می کند.\n",
    "</p>\n",
    "<p style =\" direction:rtl;text-align:right;\">Fpgrowth:  این الگوریتم یک  روش مبتنی بر درخت است.این درخت الگوهای تکراری را از پایگاه داده ایجاد می کند که حداقل support را برآورده می کنند و از جستجوی عمق اول استفاده می کند و  فقط الگوهای موجود در پایگاه داده را در نظر می گیرد. زمان اجرای آن بسته به تعداد تراکنش ها و موارد به صورت خطی افزایش می یابد . داده ها بسیار وابسته به هم هستند ، هر گره به ریشه نیاز دارد.به دلیل فضای فشرده و عدم  تولید همه کاندیداها ، به فضای حافظه کمتری نیاز دارد.فقط دوبار از پایگاه داده اسکن می کند تا درخت را ایجاد کند.\n",
    "</p>\n",
    "\n",
    "<hr style = \"border-top: 3px solid #000000 ; border-radius: 3px;\">\n"
   ]
  },
  {
   "cell_type": "markdown",
   "metadata": {
    "id": "pFfxyCz_c6a2"
   },
   "source": [
    "### **e)**"
   ]
  },
  {
   "cell_type": "code",
   "execution_count": 18,
   "metadata": {
    "id": "VcciJPMrdmt1"
   },
   "outputs": [],
   "source": [
    "from mlxtend.frequent_patterns import association_rules"
   ]
  },
  {
   "cell_type": "code",
   "execution_count": 19,
   "metadata": {
    "colab": {
     "base_uri": "https://localhost:8080/",
     "height": 139
    },
    "id": "N8d-MgAhc56i",
    "outputId": "2ac12ce9-0fc1-4add-f749-783df341f19b"
   },
   "outputs": [
    {
     "data": {
      "text/html": [
       "<div>\n",
       "<style scoped>\n",
       "    .dataframe tbody tr th:only-of-type {\n",
       "        vertical-align: middle;\n",
       "    }\n",
       "\n",
       "    .dataframe tbody tr th {\n",
       "        vertical-align: top;\n",
       "    }\n",
       "\n",
       "    .dataframe thead th {\n",
       "        text-align: right;\n",
       "    }\n",
       "</style>\n",
       "<table border=\"1\" class=\"dataframe\">\n",
       "  <thead>\n",
       "    <tr style=\"text-align: right;\">\n",
       "      <th></th>\n",
       "      <th>antecedents</th>\n",
       "      <th>consequents</th>\n",
       "      <th>antecedent support</th>\n",
       "      <th>consequent support</th>\n",
       "      <th>support</th>\n",
       "      <th>confidence</th>\n",
       "      <th>lift</th>\n",
       "      <th>leverage</th>\n",
       "      <th>conviction</th>\n",
       "    </tr>\n",
       "  </thead>\n",
       "  <tbody>\n",
       "    <tr>\n",
       "      <th>0</th>\n",
       "      <td>()</td>\n",
       "      <td>(Bread)</td>\n",
       "      <td>1.000000</td>\n",
       "      <td>0.437809</td>\n",
       "      <td>0.437809</td>\n",
       "      <td>0.437809</td>\n",
       "      <td>1.0</td>\n",
       "      <td>0.0</td>\n",
       "      <td>1.0</td>\n",
       "    </tr>\n",
       "    <tr>\n",
       "      <th>1</th>\n",
       "      <td>(Bread)</td>\n",
       "      <td>()</td>\n",
       "      <td>0.437809</td>\n",
       "      <td>1.000000</td>\n",
       "      <td>0.437809</td>\n",
       "      <td>1.000000</td>\n",
       "      <td>1.0</td>\n",
       "      <td>0.0</td>\n",
       "      <td>inf</td>\n",
       "    </tr>\n",
       "    <tr>\n",
       "      <th>2</th>\n",
       "      <td>()</td>\n",
       "      <td>(Butter)</td>\n",
       "      <td>1.000000</td>\n",
       "      <td>0.437570</td>\n",
       "      <td>0.437570</td>\n",
       "      <td>0.437570</td>\n",
       "      <td>1.0</td>\n",
       "      <td>0.0</td>\n",
       "      <td>1.0</td>\n",
       "    </tr>\n",
       "  </tbody>\n",
       "</table>\n",
       "</div>"
      ],
      "text/plain": [
       "  antecedents consequents  antecedent support  consequent support   support  \\\n",
       "0          ()     (Bread)            1.000000            0.437809  0.437809   \n",
       "1     (Bread)          ()            0.437809            1.000000  0.437809   \n",
       "2          ()    (Butter)            1.000000            0.437570  0.437570   \n",
       "\n",
       "   confidence  lift  leverage  conviction  \n",
       "0    0.437809   1.0       0.0         1.0  \n",
       "1    1.000000   1.0       0.0         inf  \n",
       "2    0.437570   1.0       0.0         1.0  "
      ]
     },
     "execution_count": 19,
     "metadata": {},
     "output_type": "execute_result"
    }
   ],
   "source": [
    "rules = association_rules(frequent_items, metric=\"lift\", min_threshold=1)\n",
    "rules.head(3)"
   ]
  },
  {
   "cell_type": "markdown",
   "metadata": {
    "id": "0zli6UdCeS7D"
   },
   "source": [
    "### **f)**"
   ]
  },
  {
   "cell_type": "code",
   "execution_count": 24,
   "metadata": {
    "colab": {
     "base_uri": "https://localhost:8080/",
     "height": 78
    },
    "id": "nS62W6aceVgM",
    "outputId": "65be68ff-d9b9-4b59-f537-8f58ec014503",
    "scrolled": true
   },
   "outputs": [
    {
     "data": {
      "text/html": [
       "<div>\n",
       "<style scoped>\n",
       "    .dataframe tbody tr th:only-of-type {\n",
       "        vertical-align: middle;\n",
       "    }\n",
       "\n",
       "    .dataframe tbody tr th {\n",
       "        vertical-align: top;\n",
       "    }\n",
       "\n",
       "    .dataframe thead th {\n",
       "        text-align: right;\n",
       "    }\n",
       "</style>\n",
       "<table border=\"1\" class=\"dataframe\">\n",
       "  <thead>\n",
       "    <tr style=\"text-align: right;\">\n",
       "      <th></th>\n",
       "      <th>antecedents</th>\n",
       "      <th>consequents</th>\n",
       "      <th>antecedent support</th>\n",
       "      <th>consequent support</th>\n",
       "      <th>support</th>\n",
       "      <th>confidence</th>\n",
       "      <th>lift</th>\n",
       "      <th>leverage</th>\n",
       "      <th>conviction</th>\n",
       "    </tr>\n",
       "  </thead>\n",
       "  <tbody>\n",
       "    <tr>\n",
       "      <th>29</th>\n",
       "      <td>(Coffee Powder)</td>\n",
       "      <td>(Bread)</td>\n",
       "      <td>0.439805</td>\n",
       "      <td>0.437809</td>\n",
       "      <td>0.20182</td>\n",
       "      <td>0.458885</td>\n",
       "      <td>1.04814</td>\n",
       "      <td>0.009269</td>\n",
       "      <td>1.038949</td>\n",
       "    </tr>\n",
       "  </tbody>\n",
       "</table>\n",
       "</div>"
      ],
      "text/plain": [
       "        antecedents consequents  antecedent support  consequent support  \\\n",
       "29  (Coffee Powder)     (Bread)            0.439805            0.437809   \n",
       "\n",
       "    support  confidence     lift  leverage  conviction  \n",
       "29  0.20182    0.458885  1.04814  0.009269    1.038949  "
      ]
     },
     "execution_count": 24,
     "metadata": {},
     "output_type": "execute_result"
    }
   ],
   "source": [
    "rules.iloc[29:30]"
   ]
  },
  {
   "cell_type": "markdown",
   "metadata": {},
   "source": [
    "<hr style = \"border-top: 3px solid #000000 ; border-radius: 3px;\">\n",
    "\n",
    "<p style =\" direction:rtl;text-align:right;\">\n",
    "این سطر بیانگر این است که Coffee و Powder و Bread به طور مکرر خریداری شده اند .\n",
    "ساپورت برای Coffee و Powder برابر 0.439805 است که فرکانس نسبی تکرار این رابطه (کاندیدا) است.\n",
    "این عدد برای bread هم مجزا در قابل consequent support گزارش شده است.\n",
    "support به تنهایی هردو این محموعه ها را در نظر میگیرد و برای اجتماع آنها این عدد را 0.20182 گزارش می کند.\n",
    "    \n",
    "    \n",
    "کانفیدنس برای این قاعده 0.458885 است یعنی بین همه افرادی که Coffee و  Powder  را خریداری کرده اند 45درصد انها Bread را هم خریده اند.\n",
    "    در واقع احتمال وقوع این دو پیشامد بایکدیگر است.\n",
    "    \n",
    "</p>\n",
    "\n",
    "<p style =\" direction:rtl;text-align:right;\">\n",
    "\n",
    "\n",
    "از متریک لیفت معمولاً برای اندازه گیری اینکه antecedents و در consequents یک قانون A-> C اغلب چقدر باهم اتفاق می افتد استفاده می شود ، بیش از آنکه انتظار داشته باشیم اگر از نظر آماری مستقل باشند. \n",
    "    اگر A و C مستقل باشند ، امتیاز Lift دقیقاً 1 خواهد بود.\n",
    "</p>\n",
    "\n",
    "<p style =\" direction:rtl;text-align:right;\">\n",
    "\n",
    "leverage تفاوت بین فرکانس مشاهده شده A و C با هم و فرکانسی را که در صورت استقلال A و C انتظار می رود محاسبه می کند. مقدار  0 نشانگر استقلال است.\n",
    "\n",
    "</p>\n",
    "\n",
    "<p style =\" direction:rtl;text-align:right;\">\n",
    "\n",
    "مقدار conviction زیاد به این معنی است که consequents بسیار بستگی به antecedents دارد. به عنوان مثال ، در مورد confidence کامل ، مخرج 0 می شود (به دلیل 1 - 1) که  conviction برای آن \"inf\" تعریف شده است. مشابه lift ، اگر اقلام مستقل باشند ، محکومیت 1 است.\n",
    "</p>\n",
    "<hr style = \"border-top: 3px solid #000000 ; border-radius: 3px;\">\n",
    "\n",
    "\n",
    "<img src=\"conviction.png\"\n",
    "     alt=\"Markdown Monster icon\"\n",
    "     style=\"float: left; margin-right: 10px;\" />\n",
    "<img src=\"levarage.png\"\n",
    "     alt=\"Markdown Monster icon\"\n",
    "     style=\"float: left; margin-right: 10px;\" />\n",
    "<img src=\"lift.png\"\n",
    "     alt=\"Markdown Monster icon\"\n",
    "     style=\"float: left; margin-right: 10px;\" />\n",
    " <img src=\"conf.png\"\n",
    "     alt=\"Markdown Monster icon\"\n",
    "     style=\"float: left; margin-right: 10px;\" />         \n",
    " <img src=\"sup.png\"\n",
    "     alt=\"Markdown Monster icon\"\n",
    "     style=\"float: left; margin-right: 10px;\" />         \n",
    "     \n"
   ]
  }
 ],
 "metadata": {
  "colab": {
   "collapsed_sections": [],
   "name": "Q4.ipynb",
   "provenance": [],
   "toc_visible": true
  },
  "kernelspec": {
   "display_name": "Python 3",
   "language": "python",
   "name": "python3"
  },
  "language_info": {
   "codemirror_mode": {
    "name": "ipython",
    "version": 3
   },
   "file_extension": ".py",
   "mimetype": "text/x-python",
   "name": "python",
   "nbconvert_exporter": "python",
   "pygments_lexer": "ipython3",
   "version": "3.8.8"
  }
 },
 "nbformat": 4,
 "nbformat_minor": 1
}
