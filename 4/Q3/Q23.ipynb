{
 "cells": [
  {
   "cell_type": "markdown",
   "id": "sexual-subject",
   "metadata": {},
   "source": [
    "## 3. Model Evaluation"
   ]
  },
  {
   "cell_type": "markdown",
   "id": "utility-garage",
   "metadata": {},
   "source": [
    "### a)"
   ]
  },
  {
   "cell_type": "code",
   "execution_count": 1,
   "id": "hearing-trade",
   "metadata": {},
   "outputs": [],
   "source": [
    "import pandas as pd"
   ]
  },
  {
   "cell_type": "code",
   "execution_count": 2,
   "id": "regional-campus",
   "metadata": {},
   "outputs": [
    {
     "name": "stdout",
     "output_type": "stream",
     "text": [
      "(768, 9)\n"
     ]
    },
    {
     "data": {
      "text/html": [
       "<div>\n",
       "<style scoped>\n",
       "    .dataframe tbody tr th:only-of-type {\n",
       "        vertical-align: middle;\n",
       "    }\n",
       "\n",
       "    .dataframe tbody tr th {\n",
       "        vertical-align: top;\n",
       "    }\n",
       "\n",
       "    .dataframe thead th {\n",
       "        text-align: right;\n",
       "    }\n",
       "</style>\n",
       "<table border=\"1\" class=\"dataframe\">\n",
       "  <thead>\n",
       "    <tr style=\"text-align: right;\">\n",
       "      <th></th>\n",
       "      <th>Number of times pregnant</th>\n",
       "      <th>Plasma glucose concentration a 2 hours in an oral glucose tolerance test</th>\n",
       "      <th>Diastolic blood pressure (mm Hg)</th>\n",
       "      <th>Triceps skinfold thickness (mm)</th>\n",
       "      <th>2-Hour serum insulin (mu U/ml)</th>\n",
       "      <th>Body mass index (weight in kg/(height in m)^2)</th>\n",
       "      <th>Diabetes pedigree function</th>\n",
       "      <th>Age (years)</th>\n",
       "      <th>Class variable(0 or 1)</th>\n",
       "    </tr>\n",
       "  </thead>\n",
       "  <tbody>\n",
       "    <tr>\n",
       "      <th>0</th>\n",
       "      <td>6</td>\n",
       "      <td>148</td>\n",
       "      <td>72</td>\n",
       "      <td>35</td>\n",
       "      <td>0</td>\n",
       "      <td>33.6</td>\n",
       "      <td>0.627</td>\n",
       "      <td>50</td>\n",
       "      <td>1</td>\n",
       "    </tr>\n",
       "    <tr>\n",
       "      <th>1</th>\n",
       "      <td>1</td>\n",
       "      <td>85</td>\n",
       "      <td>66</td>\n",
       "      <td>29</td>\n",
       "      <td>0</td>\n",
       "      <td>26.6</td>\n",
       "      <td>0.351</td>\n",
       "      <td>31</td>\n",
       "      <td>0</td>\n",
       "    </tr>\n",
       "    <tr>\n",
       "      <th>2</th>\n",
       "      <td>8</td>\n",
       "      <td>183</td>\n",
       "      <td>64</td>\n",
       "      <td>0</td>\n",
       "      <td>0</td>\n",
       "      <td>23.3</td>\n",
       "      <td>0.672</td>\n",
       "      <td>32</td>\n",
       "      <td>1</td>\n",
       "    </tr>\n",
       "    <tr>\n",
       "      <th>3</th>\n",
       "      <td>1</td>\n",
       "      <td>89</td>\n",
       "      <td>66</td>\n",
       "      <td>23</td>\n",
       "      <td>94</td>\n",
       "      <td>28.1</td>\n",
       "      <td>0.167</td>\n",
       "      <td>21</td>\n",
       "      <td>0</td>\n",
       "    </tr>\n",
       "    <tr>\n",
       "      <th>4</th>\n",
       "      <td>0</td>\n",
       "      <td>137</td>\n",
       "      <td>40</td>\n",
       "      <td>35</td>\n",
       "      <td>168</td>\n",
       "      <td>43.1</td>\n",
       "      <td>2.288</td>\n",
       "      <td>33</td>\n",
       "      <td>1</td>\n",
       "    </tr>\n",
       "    <tr>\n",
       "      <th>5</th>\n",
       "      <td>5</td>\n",
       "      <td>116</td>\n",
       "      <td>74</td>\n",
       "      <td>0</td>\n",
       "      <td>0</td>\n",
       "      <td>25.6</td>\n",
       "      <td>0.201</td>\n",
       "      <td>30</td>\n",
       "      <td>0</td>\n",
       "    </tr>\n",
       "  </tbody>\n",
       "</table>\n",
       "</div>"
      ],
      "text/plain": [
       "   Number of times pregnant  \\\n",
       "0                         6   \n",
       "1                         1   \n",
       "2                         8   \n",
       "3                         1   \n",
       "4                         0   \n",
       "5                         5   \n",
       "\n",
       "   Plasma glucose concentration a 2 hours in an oral glucose tolerance test  \\\n",
       "0                                                148                          \n",
       "1                                                 85                          \n",
       "2                                                183                          \n",
       "3                                                 89                          \n",
       "4                                                137                          \n",
       "5                                                116                          \n",
       "\n",
       "   Diastolic blood pressure (mm Hg)  Triceps skinfold thickness (mm)  \\\n",
       "0                                72                               35   \n",
       "1                                66                               29   \n",
       "2                                64                                0   \n",
       "3                                66                               23   \n",
       "4                                40                               35   \n",
       "5                                74                                0   \n",
       "\n",
       "   2-Hour serum insulin (mu U/ml)  \\\n",
       "0                               0   \n",
       "1                               0   \n",
       "2                               0   \n",
       "3                              94   \n",
       "4                             168   \n",
       "5                               0   \n",
       "\n",
       "   Body mass index (weight in kg/(height in m)^2)  Diabetes pedigree function  \\\n",
       "0                                            33.6                       0.627   \n",
       "1                                            26.6                       0.351   \n",
       "2                                            23.3                       0.672   \n",
       "3                                            28.1                       0.167   \n",
       "4                                            43.1                       2.288   \n",
       "5                                            25.6                       0.201   \n",
       "\n",
       "   Age (years)  Class variable(0 or 1)  \n",
       "0           50                       1  \n",
       "1           31                       0  \n",
       "2           32                       1  \n",
       "3           21                       0  \n",
       "4           33                       1  \n",
       "5           30                       0  "
      ]
     },
     "execution_count": 2,
     "metadata": {},
     "output_type": "execute_result"
    }
   ],
   "source": [
    "headers = [\"Number of times pregnant\",\n",
    "           \"Plasma glucose concentration a 2 hours in an oral glucose tolerance test\",\n",
    "           \"Diastolic blood pressure (mm Hg)\",\n",
    "           \"Triceps skinfold thickness (mm)\",\n",
    "           \"2-Hour serum insulin (mu U/ml)\",\n",
    "           \"Body mass index (weight in kg/(height in m)^2)\",\n",
    "           \"Diabetes pedigree function\",\n",
    "           \"Age (years)\",\n",
    "           \"Class variable(0 or 1)\"]\n",
    "\n",
    "raw_df = pd.read_csv('Diabetes.csv', names= headers)\n",
    "print(raw_df.shape)\n",
    "raw_df.head(6)"
   ]
  },
  {
   "cell_type": "markdown",
   "id": "confused-costa",
   "metadata": {},
   "source": [
    "<hr style = \"border-top: 3px solid #000000 ; border-radius: 3px;\">\n",
    "\n",
    "<p style =\" direction:rtl;text-align:right;\">\n",
    "ابتدا یک لیست از اسامی هدر ها ایجاد کرده و سپس فایل csv را به کمک ان فراخوانی می کنیم \n",
    "</p>\n",
    "\n",
    "<hr style = \"border-top: 3px solid #000000 ; border-radius: 3px;\">\n"
   ]
  },
  {
   "cell_type": "markdown",
   "id": "utility-society",
   "metadata": {},
   "source": [
    "#### Handling Missing Values"
   ]
  },
  {
   "cell_type": "code",
   "execution_count": 3,
   "id": "rocky-cologne",
   "metadata": {},
   "outputs": [
    {
     "data": {
      "text/plain": [
       "Number of times pregnant                                                    0\n",
       "Plasma glucose concentration a 2 hours in an oral glucose tolerance test    0\n",
       "Diastolic blood pressure (mm Hg)                                            0\n",
       "Triceps skinfold thickness (mm)                                             0\n",
       "2-Hour serum insulin (mu U/ml)                                              0\n",
       "Body mass index (weight in kg/(height in m)^2)                              0\n",
       "Diabetes pedigree function                                                  0\n",
       "Age (years)                                                                 0\n",
       "Class variable(0 or 1)                                                      0\n",
       "dtype: int64"
      ]
     },
     "execution_count": 3,
     "metadata": {},
     "output_type": "execute_result"
    }
   ],
   "source": [
    "raw_df.isnull().sum()"
   ]
  },
  {
   "cell_type": "code",
   "execution_count": 4,
   "id": "governing-theology",
   "metadata": {},
   "outputs": [
    {
     "data": {
      "text/plain": [
       "0    500\n",
       "1    268\n",
       "Name: Class variable(0 or 1), dtype: int64"
      ]
     },
     "execution_count": 4,
     "metadata": {},
     "output_type": "execute_result"
    }
   ],
   "source": [
    "raw_df['Class variable(0 or 1)'].value_counts()"
   ]
  },
  {
   "cell_type": "markdown",
   "id": "tropical-puzzle",
   "metadata": {},
   "source": [
    "<hr style = \"border-top: 3px solid #000000 ; border-radius: 3px;\">\n",
    "\n",
    "<p style =\" direction:rtl;text-align:right;\">\n",
    " همانطور که مشخص است داده missing در دیتاست وجود ندارد.\n",
    "  همینطور با توجه به محموع تعداد هرکدام از مقادیر یکتا که برابر است به تعداد کل رکوردها می توان فهمید که در ستون کلاس null نداریم.\n",
    "    این تحلیل را برای سایر ستون ها هم می توان انجام داد.\n",
    "</p>\n",
    "\n",
    "<hr style = \"border-top: 3px solid #000000 ; border-radius: 3px;\">\n"
   ]
  },
  {
   "cell_type": "markdown",
   "id": "accredited-success",
   "metadata": {},
   "source": [
    "#### Normalizing Numerical Columns and Encoding Categorical Ones"
   ]
  },
  {
   "cell_type": "code",
   "execution_count": 5,
   "id": "superb-stopping",
   "metadata": {},
   "outputs": [
    {
     "data": {
      "text/plain": [
       "Number of times pregnant                                                      int64\n",
       "Plasma glucose concentration a 2 hours in an oral glucose tolerance test      int64\n",
       "Diastolic blood pressure (mm Hg)                                              int64\n",
       "Triceps skinfold thickness (mm)                                               int64\n",
       "2-Hour serum insulin (mu U/ml)                                                int64\n",
       "Body mass index (weight in kg/(height in m)^2)                              float64\n",
       "Diabetes pedigree function                                                  float64\n",
       "Age (years)                                                                   int64\n",
       "Class variable(0 or 1)                                                        int64\n",
       "dtype: object"
      ]
     },
     "execution_count": 5,
     "metadata": {},
     "output_type": "execute_result"
    }
   ],
   "source": [
    "raw_df.dtypes"
   ]
  },
  {
   "cell_type": "markdown",
   "id": "capital-celtic",
   "metadata": {},
   "source": [
    "<hr style = \"border-top: 3px solid #000000 ; border-radius: 3px;\">\n",
    "\n",
    "<p style =\" direction:rtl;text-align:right;\">\n",
    "متغیر کتگوریکال نداریم پس نیازی به انکود نیست\n",
    "</p>\n",
    "\n",
    "<hr style = \"border-top: 3px solid #000000 ; border-radius: 3px;\">\n"
   ]
  },
  {
   "cell_type": "code",
   "execution_count": 6,
   "id": "necessary-calcium",
   "metadata": {},
   "outputs": [],
   "source": [
    "from sklearn.preprocessing import normalize"
   ]
  },
  {
   "cell_type": "code",
   "execution_count": 7,
   "id": "hollow-glory",
   "metadata": {},
   "outputs": [
    {
     "name": "stdout",
     "output_type": "stream",
     "text": [
      "Before Removing Outliers:  (768, 9)\n",
      "#Outliers =  129\n",
      "#Not outliers =  639\n",
      "After Removing Outliers:  (639, 9)\n"
     ]
    },
    {
     "name": "stderr",
     "output_type": "stream",
     "text": [
      "<ipython-input-7-b4fd3b422372>:10: FutureWarning: Automatic reindexing on DataFrame vs Series comparisons is deprecated and will raise ValueError in a future version.  Do `left, right = left.align(right, axis=1, copy=False)` before e.g. `left == right`\n",
      "  mask = ~((raw_df < (Q1 - 1.5 * IQR)) | (raw_df > (Q3 + 1.5 * IQR))).any(axis=1)\n",
      "<ipython-input-7-b4fd3b422372>:10: FutureWarning: Automatic reindexing on DataFrame vs Series comparisons is deprecated and will raise ValueError in a future version.  Do `left, right = left.align(right, axis=1, copy=False)` before e.g. `left == right`\n",
      "  mask = ~((raw_df < (Q1 - 1.5 * IQR)) | (raw_df > (Q3 + 1.5 * IQR))).any(axis=1)\n"
     ]
    },
    {
     "data": {
      "text/html": [
       "<div>\n",
       "<style scoped>\n",
       "    .dataframe tbody tr th:only-of-type {\n",
       "        vertical-align: middle;\n",
       "    }\n",
       "\n",
       "    .dataframe tbody tr th {\n",
       "        vertical-align: top;\n",
       "    }\n",
       "\n",
       "    .dataframe thead th {\n",
       "        text-align: right;\n",
       "    }\n",
       "</style>\n",
       "<table border=\"1\" class=\"dataframe\">\n",
       "  <thead>\n",
       "    <tr style=\"text-align: right;\">\n",
       "      <th></th>\n",
       "      <th>Number of times pregnant</th>\n",
       "      <th>Plasma glucose concentration a 2 hours in an oral glucose tolerance test</th>\n",
       "      <th>Diastolic blood pressure (mm Hg)</th>\n",
       "      <th>Triceps skinfold thickness (mm)</th>\n",
       "      <th>2-Hour serum insulin (mu U/ml)</th>\n",
       "      <th>Body mass index (weight in kg/(height in m)^2)</th>\n",
       "      <th>Diabetes pedigree function</th>\n",
       "      <th>Age (years)</th>\n",
       "      <th>Class variable(0 or 1)</th>\n",
       "    </tr>\n",
       "  </thead>\n",
       "  <tbody>\n",
       "    <tr>\n",
       "      <th>0</th>\n",
       "      <td>6</td>\n",
       "      <td>148</td>\n",
       "      <td>72</td>\n",
       "      <td>35</td>\n",
       "      <td>0</td>\n",
       "      <td>33.6</td>\n",
       "      <td>0.627</td>\n",
       "      <td>50</td>\n",
       "      <td>1</td>\n",
       "    </tr>\n",
       "    <tr>\n",
       "      <th>1</th>\n",
       "      <td>1</td>\n",
       "      <td>85</td>\n",
       "      <td>66</td>\n",
       "      <td>29</td>\n",
       "      <td>0</td>\n",
       "      <td>26.6</td>\n",
       "      <td>0.351</td>\n",
       "      <td>31</td>\n",
       "      <td>0</td>\n",
       "    </tr>\n",
       "    <tr>\n",
       "      <th>2</th>\n",
       "      <td>8</td>\n",
       "      <td>183</td>\n",
       "      <td>64</td>\n",
       "      <td>0</td>\n",
       "      <td>0</td>\n",
       "      <td>23.3</td>\n",
       "      <td>0.672</td>\n",
       "      <td>32</td>\n",
       "      <td>1</td>\n",
       "    </tr>\n",
       "    <tr>\n",
       "      <th>3</th>\n",
       "      <td>1</td>\n",
       "      <td>89</td>\n",
       "      <td>66</td>\n",
       "      <td>23</td>\n",
       "      <td>94</td>\n",
       "      <td>28.1</td>\n",
       "      <td>0.167</td>\n",
       "      <td>21</td>\n",
       "      <td>0</td>\n",
       "    </tr>\n",
       "    <tr>\n",
       "      <th>5</th>\n",
       "      <td>5</td>\n",
       "      <td>116</td>\n",
       "      <td>74</td>\n",
       "      <td>0</td>\n",
       "      <td>0</td>\n",
       "      <td>25.6</td>\n",
       "      <td>0.201</td>\n",
       "      <td>30</td>\n",
       "      <td>0</td>\n",
       "    </tr>\n",
       "  </tbody>\n",
       "</table>\n",
       "</div>"
      ],
      "text/plain": [
       "   Number of times pregnant  \\\n",
       "0                         6   \n",
       "1                         1   \n",
       "2                         8   \n",
       "3                         1   \n",
       "5                         5   \n",
       "\n",
       "   Plasma glucose concentration a 2 hours in an oral glucose tolerance test  \\\n",
       "0                                                148                          \n",
       "1                                                 85                          \n",
       "2                                                183                          \n",
       "3                                                 89                          \n",
       "5                                                116                          \n",
       "\n",
       "   Diastolic blood pressure (mm Hg)  Triceps skinfold thickness (mm)  \\\n",
       "0                                72                               35   \n",
       "1                                66                               29   \n",
       "2                                64                                0   \n",
       "3                                66                               23   \n",
       "5                                74                                0   \n",
       "\n",
       "   2-Hour serum insulin (mu U/ml)  \\\n",
       "0                               0   \n",
       "1                               0   \n",
       "2                               0   \n",
       "3                              94   \n",
       "5                               0   \n",
       "\n",
       "   Body mass index (weight in kg/(height in m)^2)  Diabetes pedigree function  \\\n",
       "0                                            33.6                       0.627   \n",
       "1                                            26.6                       0.351   \n",
       "2                                            23.3                       0.672   \n",
       "3                                            28.1                       0.167   \n",
       "5                                            25.6                       0.201   \n",
       "\n",
       "   Age (years)  Class variable(0 or 1)  \n",
       "0           50                       1  \n",
       "1           31                       0  \n",
       "2           32                       1  \n",
       "3           21                       0  \n",
       "5           30                       0  "
      ]
     },
     "execution_count": 7,
     "metadata": {},
     "output_type": "execute_result"
    }
   ],
   "source": [
    "numericals = pd.DataFrame(raw_df.loc[:, raw_df.columns != 'Class variable(0 or 1)'])\n",
    "categoricals = pd.DataFrame(raw_df['Class variable(0 or 1)'])\n",
    "\n",
    "\n",
    "#remove outlires\n",
    "print(\"Before Removing Outliers: \",raw_df.shape)\n",
    "Q1 = raw_df.loc[:, raw_df.columns != 'Class variable(0 or 1)'].quantile(0.25)\n",
    "Q3 = raw_df.loc[:, raw_df.columns != 'Class variable(0 or 1)'].quantile(0.75)\n",
    "IQR = Q3 - Q1 \n",
    "mask = ~((raw_df < (Q1 - 1.5 * IQR)) | (raw_df > (Q3 + 1.5 * IQR))).any(axis=1)\n",
    "print(\"#Outliers = \",raw_df[~mask].dropna().shape[0])\n",
    "print(\"#Not outliers = \",raw_df.shape[0]-raw_df[~mask].dropna().shape[0])\n",
    "\n",
    "raw_df= raw_df[mask]\n",
    "print(\"After Removing Outliers: \",raw_df.shape)\n",
    "raw_df.head()\n"
   ]
  },
  {
   "cell_type": "code",
   "execution_count": 8,
   "id": "after-staff",
   "metadata": {},
   "outputs": [
    {
     "data": {
      "text/html": [
       "<div>\n",
       "<style scoped>\n",
       "    .dataframe tbody tr th:only-of-type {\n",
       "        vertical-align: middle;\n",
       "    }\n",
       "\n",
       "    .dataframe tbody tr th {\n",
       "        vertical-align: top;\n",
       "    }\n",
       "\n",
       "    .dataframe thead th {\n",
       "        text-align: right;\n",
       "    }\n",
       "</style>\n",
       "<table border=\"1\" class=\"dataframe\">\n",
       "  <thead>\n",
       "    <tr style=\"text-align: right;\">\n",
       "      <th></th>\n",
       "      <th>Number of times pregnant</th>\n",
       "      <th>Plasma glucose concentration a 2 hours in an oral glucose tolerance test</th>\n",
       "      <th>Diastolic blood pressure (mm Hg)</th>\n",
       "      <th>Triceps skinfold thickness (mm)</th>\n",
       "      <th>2-Hour serum insulin (mu U/ml)</th>\n",
       "      <th>Body mass index (weight in kg/(height in m)^2)</th>\n",
       "      <th>Diabetes pedigree function</th>\n",
       "      <th>Age (years)</th>\n",
       "      <th>Class variable(0 or 1)</th>\n",
       "    </tr>\n",
       "  </thead>\n",
       "  <tbody>\n",
       "    <tr>\n",
       "      <th>0</th>\n",
       "      <td>0.033552</td>\n",
       "      <td>0.827625</td>\n",
       "      <td>0.402628</td>\n",
       "      <td>0.195722</td>\n",
       "      <td>0.000000</td>\n",
       "      <td>0.187893</td>\n",
       "      <td>0.003506</td>\n",
       "      <td>0.279603</td>\n",
       "      <td>1</td>\n",
       "    </tr>\n",
       "    <tr>\n",
       "      <th>1</th>\n",
       "      <td>0.008424</td>\n",
       "      <td>0.716040</td>\n",
       "      <td>0.555984</td>\n",
       "      <td>0.244296</td>\n",
       "      <td>0.000000</td>\n",
       "      <td>0.224079</td>\n",
       "      <td>0.002957</td>\n",
       "      <td>0.261144</td>\n",
       "      <td>0</td>\n",
       "    </tr>\n",
       "    <tr>\n",
       "      <th>2</th>\n",
       "      <td>0.040398</td>\n",
       "      <td>0.924097</td>\n",
       "      <td>0.323181</td>\n",
       "      <td>0.000000</td>\n",
       "      <td>0.000000</td>\n",
       "      <td>0.117658</td>\n",
       "      <td>0.003393</td>\n",
       "      <td>0.161591</td>\n",
       "      <td>1</td>\n",
       "    </tr>\n",
       "    <tr>\n",
       "      <th>3</th>\n",
       "      <td>0.006612</td>\n",
       "      <td>0.588467</td>\n",
       "      <td>0.436392</td>\n",
       "      <td>0.152076</td>\n",
       "      <td>0.621527</td>\n",
       "      <td>0.185797</td>\n",
       "      <td>0.001104</td>\n",
       "      <td>0.138852</td>\n",
       "      <td>0</td>\n",
       "    </tr>\n",
       "    <tr>\n",
       "      <th>5</th>\n",
       "      <td>0.034911</td>\n",
       "      <td>0.809934</td>\n",
       "      <td>0.516682</td>\n",
       "      <td>0.000000</td>\n",
       "      <td>0.000000</td>\n",
       "      <td>0.178744</td>\n",
       "      <td>0.001403</td>\n",
       "      <td>0.209466</td>\n",
       "      <td>0</td>\n",
       "    </tr>\n",
       "  </tbody>\n",
       "</table>\n",
       "</div>"
      ],
      "text/plain": [
       "   Number of times pregnant  \\\n",
       "0                  0.033552   \n",
       "1                  0.008424   \n",
       "2                  0.040398   \n",
       "3                  0.006612   \n",
       "5                  0.034911   \n",
       "\n",
       "   Plasma glucose concentration a 2 hours in an oral glucose tolerance test  \\\n",
       "0                                           0.827625                          \n",
       "1                                           0.716040                          \n",
       "2                                           0.924097                          \n",
       "3                                           0.588467                          \n",
       "5                                           0.809934                          \n",
       "\n",
       "   Diastolic blood pressure (mm Hg)  Triceps skinfold thickness (mm)  \\\n",
       "0                          0.402628                         0.195722   \n",
       "1                          0.555984                         0.244296   \n",
       "2                          0.323181                         0.000000   \n",
       "3                          0.436392                         0.152076   \n",
       "5                          0.516682                         0.000000   \n",
       "\n",
       "   2-Hour serum insulin (mu U/ml)  \\\n",
       "0                        0.000000   \n",
       "1                        0.000000   \n",
       "2                        0.000000   \n",
       "3                        0.621527   \n",
       "5                        0.000000   \n",
       "\n",
       "   Body mass index (weight in kg/(height in m)^2)  Diabetes pedigree function  \\\n",
       "0                                        0.187893                    0.003506   \n",
       "1                                        0.224079                    0.002957   \n",
       "2                                        0.117658                    0.003393   \n",
       "3                                        0.185797                    0.001104   \n",
       "5                                        0.178744                    0.001403   \n",
       "\n",
       "   Age (years)  Class variable(0 or 1)  \n",
       "0     0.279603                       1  \n",
       "1     0.261144                       0  \n",
       "2     0.161591                       1  \n",
       "3     0.138852                       0  \n",
       "5     0.209466                       0  "
      ]
     },
     "execution_count": 8,
     "metadata": {},
     "output_type": "execute_result"
    }
   ],
   "source": [
    "numericals = pd.DataFrame(raw_df.loc[:, raw_df.columns != 'Class variable(0 or 1)'])\n",
    "categoricals = pd.DataFrame(raw_df['Class variable(0 or 1)'])\n",
    "\n",
    "#normalize\n",
    "raw_df.loc[:, raw_df.columns != 'Class variable(0 or 1)'] = normalize(numericals, norm='l2')\n",
    "df=raw_df\n",
    "df.head()"
   ]
  },
  {
   "cell_type": "markdown",
   "id": "controlling-advertiser",
   "metadata": {},
   "source": [
    "<hr style = \"border-top: 3px solid #000000 ; border-radius: 3px;\">\n",
    "\n",
    "<p style =\" direction:rtl;text-align:right;\">\n",
    "با جزئیاتی کاملا مشابه سوال قبل حذف داده های پرت و نرمال سازی انجام شده است.</p>\n",
    "\n",
    "<hr style = \"border-top: 3px solid #000000 ; border-radius: 3px;\">\n"
   ]
  },
  {
   "cell_type": "code",
   "execution_count": 9,
   "id": "spare-discount",
   "metadata": {},
   "outputs": [],
   "source": [
    "Y = df['Class variable(0 or 1)']\n",
    "X = df.drop('Class variable(0 or 1)', axis=1)"
   ]
  },
  {
   "cell_type": "code",
   "execution_count": 10,
   "id": "former-union",
   "metadata": {},
   "outputs": [],
   "source": [
    "from sklearn.model_selection import train_test_split"
   ]
  },
  {
   "cell_type": "code",
   "execution_count": 11,
   "id": "welsh-subcommittee",
   "metadata": {},
   "outputs": [],
   "source": [
    "X_train, X_test, y_train, y_test = train_test_split(X, Y, test_size=0.2)"
   ]
  },
  {
   "cell_type": "code",
   "execution_count": 12,
   "id": "outdoor-korean",
   "metadata": {},
   "outputs": [
    {
     "name": "stdout",
     "output_type": "stream",
     "text": [
      "Distribution of defferent classes in training data:(%) \n"
     ]
    },
    {
     "data": {
      "text/plain": [
       "Class variable(0 or 1)\n",
       "0    68.88454\n",
       "1    31.11546\n",
       "Name: Class variable(0 or 1), dtype: float64"
      ]
     },
     "execution_count": 12,
     "metadata": {},
     "output_type": "execute_result"
    }
   ],
   "source": [
    "print('Distribution of defferent classes in training data:(%) ')\n",
    "y = pd.DataFrame(y_train)\n",
    "((y.groupby('Class variable(0 or 1)')['Class variable(0 or 1)'].count())/y_train.shape[0])*100"
   ]
  },
  {
   "cell_type": "code",
   "execution_count": 13,
   "id": "facial-marathon",
   "metadata": {},
   "outputs": [
    {
     "name": "stdout",
     "output_type": "stream",
     "text": [
      "Distribution of defferent classes in test data:(%) \n"
     ]
    },
    {
     "data": {
      "text/plain": [
       "Class variable(0 or 1)\n",
       "0    67.96875\n",
       "1    32.03125\n",
       "Name: Class variable(0 or 1), dtype: float64"
      ]
     },
     "execution_count": 13,
     "metadata": {},
     "output_type": "execute_result"
    }
   ],
   "source": [
    "print('Distribution of defferent classes in test data:(%) ')\n",
    "y = pd.DataFrame(y_test)\n",
    "((y.groupby('Class variable(0 or 1)')['Class variable(0 or 1)'].count())/y_test.shape[0])*100"
   ]
  },
  {
   "cell_type": "markdown",
   "id": "genuine-committee",
   "metadata": {},
   "source": [
    "<hr style = \"border-top: 3px solid #000000 ; border-radius: 3px;\">\n",
    "\n",
    "<p style =\" direction:rtl;text-align:right;\">\n",
    "به کمک تابع  train_test_split داده ها را به دو بخش آموزشی و تست با نسبت خواسته شده تقسیم می کنیم.سپس درصد وجود هر کلاس را در داده های آموزش و تست محاسبه می کنیم.\n",
    "    همانطور که مشحص است هر کدام از این دسته ها درصدهای نزدیک به همی در دو نوع داده دارند\n",
    "</p>\n",
    "\n",
    "<hr style = \"border-top: 3px solid #000000 ; border-radius: 3px;\">\n"
   ]
  },
  {
   "cell_type": "code",
   "execution_count": 14,
   "id": "marine-moses",
   "metadata": {},
   "outputs": [],
   "source": [
    "from sklearn.ensemble import RandomForestClassifier"
   ]
  },
  {
   "cell_type": "code",
   "execution_count": 15,
   "id": "great-appeal",
   "metadata": {},
   "outputs": [],
   "source": [
    "myclassifier = RandomForestClassifier(max_depth=5, criterion='entropy').fit(X_train, y_train)"
   ]
  },
  {
   "cell_type": "markdown",
   "id": "caroline-message",
   "metadata": {},
   "source": [
    "<hr style = \"border-top: 3px solid #000000 ; border-radius: 3px;\">\n",
    "\n",
    "<p style =\" direction:rtl;text-align:right;\">\n",
    "کلاسیفایر جنگل تصادفی را با پارامترهای گفته شده در سوال می سازیم .\n",
    "    سپس داده ها را برای آموزش به مدل دادیم.\n",
    "\n",
    "</p>\n",
    "\n",
    "<hr style = \"border-top: 3px solid #000000 ; border-radius: 3px;\">\n"
   ]
  },
  {
   "cell_type": "markdown",
   "id": "fantastic-audience",
   "metadata": {},
   "source": [
    "### b)"
   ]
  },
  {
   "cell_type": "code",
   "execution_count": 16,
   "id": "renewable-establishment",
   "metadata": {},
   "outputs": [],
   "source": [
    "y_pred = myclassifier.predict(X_test)"
   ]
  },
  {
   "cell_type": "markdown",
   "id": "legal-transcript",
   "metadata": {},
   "source": [
    "### c)"
   ]
  },
  {
   "cell_type": "code",
   "execution_count": 17,
   "id": "polished-pharmacy",
   "metadata": {},
   "outputs": [],
   "source": [
    "from sklearn.metrics import classification_report, confusion_matrix, accuracy_score\n",
    "import numpy as np\n",
    "import seaborn as sns"
   ]
  },
  {
   "cell_type": "code",
   "execution_count": 18,
   "id": "checked-slovak",
   "metadata": {},
   "outputs": [
    {
     "name": "stdout",
     "output_type": "stream",
     "text": [
      "[+] confusion matrix\n",
      "\n",
      "[[85  2]\n",
      " [29 12]]\n"
     ]
    }
   ],
   "source": [
    "print(\"[+] confusion matrix\\n\")\n",
    "cm = confusion_matrix(y_test, y_pred)\n",
    "print(cm)\n"
   ]
  },
  {
   "cell_type": "code",
   "execution_count": 19,
   "id": "premium-sugar",
   "metadata": {},
   "outputs": [
    {
     "data": {
      "text/plain": [
       "<AxesSubplot:>"
      ]
     },
     "execution_count": 19,
     "metadata": {},
     "output_type": "execute_result"
    },
    {
     "data": {
      "image/png": "[encoded data removed]",
      "text/plain": [
       "<Figure size 432x288 with 2 Axes>"
      ]
     },
     "metadata": {
      "needs_background": "light"
     },
     "output_type": "display_data"
    }
   ],
   "source": [
    "group_names = ['True Neg','False Pos','False Neg','True Pos']\n",
    "group_counts = [\"{0:0.0f}\".format(value) for value in\n",
    "                cm.flatten()]\n",
    "\n",
    "group_percentages = [\"{0:.2%}\".format(value) for value in\n",
    "                     cm.flatten()/np.sum(cm)]\n",
    "labels = [f\"{v1}\\n{v2}\\n{v3}\" for v1, v2, v3 in\n",
    "          zip(group_names,group_counts,group_percentages)]\n",
    "labels = np.asarray(labels).reshape(2,2)\n",
    "sns.heatmap(cm, annot=labels, fmt='', cmap=\"PiYG\")"
   ]
  },
  {
   "cell_type": "markdown",
   "id": "enclosed-snowboard",
   "metadata": {},
   "source": [
    "<hr style = \"border-top: 3px solid #000000 ; border-radius: 3px;\">\n",
    "\n",
    "<p style =\" direction:rtl;text-align:right;\">\n",
    "    \n",
    "    \n",
    "    به طور کلی ، برای یک طبقه بندی باینری ، یک ماتریس confusion یک ماتریس 2x2 بعدی با 0 به عنوان کلاس منفی و 1 به عنوان کلاس مثبت است.\n",
    "    در این ماتریس برای یک ظبقه بندی خوب باید عناصر قطر اصلی اعداد بزرگ و قطر فرعی کوچک باشند.\n",
    "    به هر یک از این خانه ها یکی از نامهایی که در نمودار فوق مشخص است اطلاق می شود.\n",
    "    منظور از True Negative این است که نتیجه منفی بوده و به درستی منفی پیش بینی شده است.\n",
    "        منظور از True Positive این است که نتیجه مثبت بوده و به درستی مثبت پیش بینی شده است.\n",
    "    منظور از False Negative این است که نتیجه مثبت بوده و به اشتباه منفی پیش بینی شده است.\n",
    "    منظور از False Positive این است که نتیجه منفی بوده و به اشتباه مثبت پیش بینی شده است.\n",
    "    برای هرکدام از آنها یک نرخ به صورت زیر تعریف می شود:\n",
    "\n",
    "</p>\n",
    "\n",
    "<p style =\" direction:ltr;text-align:left;\">\n",
    "True Positive Rate (TPR): True Positive / Total Positive = TP/P</p>\n",
    "<p style =\" direction:ltr;text-align:left;\">\n",
    "True Negative Rate (TNR): True Negative/ Total Negative = TN/N</p>\n",
    "<p style =\" direction:ltr;text-align:left;\">\n",
    "False Positive Rate (FPR): False Positive / Total Negative = FP/N</p>\n",
    "<p style =\" direction:ltr;text-align:left;\">\n",
    "False Negative Rate (FNR): False Negative/ Total Positive= FN/P</p>\n",
    "\n",
    "<p style =\" direction:rtl;text-align:right;\">\n",
    " برای یک مدل خوب TPRوTNR باید بالا و دو شاخص دیگر باید پایین باشند.\n",
    "همچنین داریم :\n",
    "</p>\n",
    "<p style =\" direction:ltr;text-align:left;\">\n",
    "Precision = TP / (TP+FP)</p>\n",
    "\n",
    "\n",
    "\n",
    "\n",
    "\n",
    "<p style =\" direction:rtl;text-align:right;\">\n",
    "\n",
    "\n",
    "    در نمودار بالا برای کلاس 0 در محموع 87 تست انجام شده است که 85 داده به درستی 0 و 2 داده به اشتباه 1 تشخیص داده شده اند\n",
    "</p>\n",
    "<p style =\" direction:rtl;text-align:right;\">\n",
    "\n",
    "\n",
    "    در نمودار بالا برای کلاس 1در محموع 41 تست انجام شده است که 12 داده به درستی 1 و 29 داده به اشتباه 0 تشخیص داده شده اند\n",
    "</p>\n",
    "<hr style = \"border-top: 3px solid #000000 ; border-radius: 3px;\">\n"
   ]
  },
  {
   "cell_type": "markdown",
   "id": "intelligent-antarctica",
   "metadata": {},
   "source": [
    "###  d)"
   ]
  },
  {
   "cell_type": "code",
   "execution_count": 20,
   "id": "surrounded-lewis",
   "metadata": {},
   "outputs": [
    {
     "name": "stdout",
     "output_type": "stream",
     "text": [
      "\n",
      "[+] classification report\n",
      "\n",
      "              precision    recall  f1-score   support\n",
      "\n",
      "           0       0.75      0.98      0.85        87\n",
      "           1       0.86      0.29      0.44        41\n",
      "\n",
      "    accuracy                           0.76       128\n",
      "   macro avg       0.80      0.63      0.64       128\n",
      "weighted avg       0.78      0.76      0.71       128\n",
      "\n"
     ]
    }
   ],
   "source": [
    "print(\"\\n[+] classification report\\n\")\n",
    "print(classification_report(y_test, y_pred))"
   ]
  },
  {
   "cell_type": "markdown",
   "id": "strategic-danish",
   "metadata": {},
   "source": [
    "<hr style = \"border-top: 3px solid #000000 ; border-radius: 3px;\">\n",
    "\n",
    "\n",
    "<p style =\" direction:rtl;text-align:right;\">\n",
    "ستون recall به معنای این است که چع تغداد از این کلاس را می توان بین تمام عناصر این کلاس یافت.  \n",
    "    یعنی توانایی تشخیص مدل برای ستون های مثبت چند است.\n",
    "    <div>Recall = TP/(TP+FN)</div>\n",
    "</p>\n",
    "<p style =\" direction:rtl;text-align:right;\">\n",
    " ستون precision به این معناست که چه تعداد از این کلاس به درستی دسته بندی شده اند.  \n",
    "    یعنی یک کلاسیفایر چقدر می تواند در اینکه یک نمونه منفی را مثبت برچسب نزند موفق عمل می کند.\n",
    "    <div>Precision = TP/(TP + FP)</div>\n",
    "\n",
    "</p>\n",
    "<p style =\" direction:rtl;text-align:right;\">\n",
    "    ستونf1-score میانگین هارمونیک دو ستون قبل است.\n",
    "    یعنی چه تعداد از نمونه های مثبت به درستی حدس زده شده اند.\n",
    "    <div>F1 Score = 2*(Recall * Precision) / (Recall + Precision)</div>\n",
    "</p>\n",
    "<p style =\" direction:rtl;text-align:right;\">\n",
    "    ستون support تعداد وقوغ یک کلاس در دیتاست است\n",
    "</p>\n",
    "<p style =\" direction:rtl;text-align:right;\">\n",
    "از دو ستون اول در دیتاست هایی که بالانس نیستند و دقت در آنها چندان معنی دار نیست استفاده می شود.\n",
    "    \n",
    "</p>\n",
    "<hr style = \"border-top: 3px solid #000000 ; border-radius: 3px;\">\n"
   ]
  }
 ],
 "metadata": {
  "kernelspec": {
   "display_name": "Python 3",
   "language": "python",
   "name": "python3"
  },
  "language_info": {
   "codemirror_mode": {
    "name": "ipython",
    "version": 3
   },
   "file_extension": ".py",
   "mimetype": "text/x-python",
   "name": "python",
   "nbconvert_exporter": "python",
   "pygments_lexer": "ipython3",
   "version": "3.8.8"
  }
 },
 "nbformat": 4,
 "nbformat_minor": 5
}
