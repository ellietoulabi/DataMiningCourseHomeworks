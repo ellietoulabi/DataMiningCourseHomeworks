{
 "cells": [
  {
   "cell_type": "markdown",
   "id": "different-workshop",
   "metadata": {},
   "source": [
    "<h1 style=\"direction:rtl;text-align:center;color:#ffffff;background-color:#cca3db;font-size:48p\"><strong>سوال پنجم</strong> </h1>"
   ]
  },
  {
   "cell_type": "code",
   "execution_count": 1,
   "id": "geological-variance",
   "metadata": {},
   "outputs": [],
   "source": [
    "import pandas as pd\n",
    "import numpy as np\n",
    "import matplotlib.pyplot as plt\n",
    "import random"
   ]
  },
  {
   "cell_type": "markdown",
   "id": "crazy-reason",
   "metadata": {},
   "source": [
    "<h3 style=\"text-align:left;color:#945aaf;background-color:#ffffff;font-size:48p\"><strong> a) </strong></h3>"
   ]
  },
  {
   "cell_type": "code",
   "execution_count": 2,
   "id": "wired-meaning",
   "metadata": {},
   "outputs": [
    {
     "data": {
      "text/html": [
       "<div>\n",
       "<style scoped>\n",
       "    .dataframe tbody tr th:only-of-type {\n",
       "        vertical-align: middle;\n",
       "    }\n",
       "\n",
       "    .dataframe tbody tr th {\n",
       "        vertical-align: top;\n",
       "    }\n",
       "\n",
       "    .dataframe thead th {\n",
       "        text-align: right;\n",
       "    }\n",
       "</style>\n",
       "<table border=\"1\" class=\"dataframe\">\n",
       "  <thead>\n",
       "    <tr style=\"text-align: right;\">\n",
       "      <th></th>\n",
       "      <th>T3_resin</th>\n",
       "      <th>Serum_thyroxin</th>\n",
       "      <th>Serum_triiodothyronine</th>\n",
       "      <th>Basal_TSH</th>\n",
       "      <th>Abs_diff_TSH</th>\n",
       "      <th>Outcome</th>\n",
       "    </tr>\n",
       "  </thead>\n",
       "  <tbody>\n",
       "    <tr>\n",
       "      <th>0</th>\n",
       "      <td>107.0</td>\n",
       "      <td>10.1</td>\n",
       "      <td>2.2</td>\n",
       "      <td>0.9</td>\n",
       "      <td>2.7</td>\n",
       "      <td>1.0</td>\n",
       "    </tr>\n",
       "    <tr>\n",
       "      <th>1</th>\n",
       "      <td>NaN</td>\n",
       "      <td>9.9</td>\n",
       "      <td>3.1</td>\n",
       "      <td>2.0</td>\n",
       "      <td>5.9</td>\n",
       "      <td>1.0</td>\n",
       "    </tr>\n",
       "    <tr>\n",
       "      <th>2</th>\n",
       "      <td>127.0</td>\n",
       "      <td>12.9</td>\n",
       "      <td>2.4</td>\n",
       "      <td>NaN</td>\n",
       "      <td>0.6</td>\n",
       "      <td>1.0</td>\n",
       "    </tr>\n",
       "    <tr>\n",
       "      <th>3</th>\n",
       "      <td>109.0</td>\n",
       "      <td>NaN</td>\n",
       "      <td>1.6</td>\n",
       "      <td>1.4</td>\n",
       "      <td>1.5</td>\n",
       "      <td>1.0</td>\n",
       "    </tr>\n",
       "    <tr>\n",
       "      <th>4</th>\n",
       "      <td>105.0</td>\n",
       "      <td>7.3</td>\n",
       "      <td>1.5</td>\n",
       "      <td>NaN</td>\n",
       "      <td>-0.1</td>\n",
       "      <td>1.0</td>\n",
       "    </tr>\n",
       "  </tbody>\n",
       "</table>\n",
       "</div>"
      ],
      "text/plain": [
       "   T3_resin  Serum_thyroxin  Serum_triiodothyronine  Basal_TSH  Abs_diff_TSH  \\\n",
       "0     107.0            10.1                     2.2        0.9           2.7   \n",
       "1       NaN             9.9                     3.1        2.0           5.9   \n",
       "2     127.0            12.9                     2.4        NaN           0.6   \n",
       "3     109.0             NaN                     1.6        1.4           1.5   \n",
       "4     105.0             7.3                     1.5        NaN          -0.1   \n",
       "\n",
       "   Outcome  \n",
       "0      1.0  \n",
       "1      1.0  \n",
       "2      1.0  \n",
       "3      1.0  \n",
       "4      1.0  "
      ]
     },
     "execution_count": 2,
     "metadata": {},
     "output_type": "execute_result"
    }
   ],
   "source": [
    "missing_values = [\"NA\",\"?\"]\n",
    "df = pd.read_csv('thyroid.csv',na_values=missing_values)\n",
    "df.head()"
   ]
  },
  {
   "cell_type": "code",
   "execution_count": 3,
   "id": "otherwise-equivalent",
   "metadata": {},
   "outputs": [
    {
     "data": {
      "text/html": [
       "<div>\n",
       "<style scoped>\n",
       "    .dataframe tbody tr th:only-of-type {\n",
       "        vertical-align: middle;\n",
       "    }\n",
       "\n",
       "    .dataframe tbody tr th {\n",
       "        vertical-align: top;\n",
       "    }\n",
       "\n",
       "    .dataframe thead th {\n",
       "        text-align: right;\n",
       "    }\n",
       "</style>\n",
       "<table border=\"1\" class=\"dataframe\">\n",
       "  <thead>\n",
       "    <tr style=\"text-align: right;\">\n",
       "      <th></th>\n",
       "      <th>T3_resin</th>\n",
       "      <th>Serum_thyroxin</th>\n",
       "      <th>Serum_triiodothyronine</th>\n",
       "      <th>Basal_TSH</th>\n",
       "      <th>Abs_diff_TSH</th>\n",
       "      <th>Outcome</th>\n",
       "    </tr>\n",
       "  </thead>\n",
       "  <tbody>\n",
       "    <tr>\n",
       "      <th>0</th>\n",
       "      <td>107.0</td>\n",
       "      <td>10.1</td>\n",
       "      <td>2.2</td>\n",
       "      <td>0.9</td>\n",
       "      <td>2.7</td>\n",
       "      <td>1.0</td>\n",
       "    </tr>\n",
       "    <tr>\n",
       "      <th>1</th>\n",
       "      <td>NaN</td>\n",
       "      <td>9.9</td>\n",
       "      <td>3.1</td>\n",
       "      <td>2.0</td>\n",
       "      <td>5.9</td>\n",
       "      <td>1.0</td>\n",
       "    </tr>\n",
       "    <tr>\n",
       "      <th>2</th>\n",
       "      <td>127.0</td>\n",
       "      <td>12.9</td>\n",
       "      <td>2.4</td>\n",
       "      <td>NaN</td>\n",
       "      <td>0.6</td>\n",
       "      <td>1.0</td>\n",
       "    </tr>\n",
       "    <tr>\n",
       "      <th>3</th>\n",
       "      <td>109.0</td>\n",
       "      <td>NaN</td>\n",
       "      <td>1.6</td>\n",
       "      <td>1.4</td>\n",
       "      <td>1.5</td>\n",
       "      <td>1.0</td>\n",
       "    </tr>\n",
       "    <tr>\n",
       "      <th>4</th>\n",
       "      <td>105.0</td>\n",
       "      <td>7.3</td>\n",
       "      <td>1.5</td>\n",
       "      <td>NaN</td>\n",
       "      <td>-0.1</td>\n",
       "      <td>1.0</td>\n",
       "    </tr>\n",
       "  </tbody>\n",
       "</table>\n",
       "</div>"
      ],
      "text/plain": [
       "   T3_resin  Serum_thyroxin  Serum_triiodothyronine  Basal_TSH  Abs_diff_TSH  \\\n",
       "0     107.0            10.1                     2.2        0.9           2.7   \n",
       "1       NaN             9.9                     3.1        2.0           5.9   \n",
       "2     127.0            12.9                     2.4        NaN           0.6   \n",
       "3     109.0             NaN                     1.6        1.4           1.5   \n",
       "4     105.0             7.3                     1.5        NaN          -0.1   \n",
       "\n",
       "   Outcome  \n",
       "0      1.0  \n",
       "1      1.0  \n",
       "2      1.0  \n",
       "3      1.0  \n",
       "4      1.0  "
      ]
     },
     "execution_count": 3,
     "metadata": {},
     "output_type": "execute_result"
    }
   ],
   "source": [
    "df = pd.DataFrame(df[pd.notnull(df['Outcome'])])\n",
    "df.head()"
   ]
  },
  {
   "cell_type": "code",
   "execution_count": 4,
   "id": "direct-pixel",
   "metadata": {},
   "outputs": [
    {
     "data": {
      "text/html": [
       "<div>\n",
       "<style scoped>\n",
       "    .dataframe tbody tr th:only-of-type {\n",
       "        vertical-align: middle;\n",
       "    }\n",
       "\n",
       "    .dataframe tbody tr th {\n",
       "        vertical-align: top;\n",
       "    }\n",
       "\n",
       "    .dataframe thead th {\n",
       "        text-align: right;\n",
       "    }\n",
       "</style>\n",
       "<table border=\"1\" class=\"dataframe\">\n",
       "  <thead>\n",
       "    <tr style=\"text-align: right;\">\n",
       "      <th></th>\n",
       "      <th>T3_resin</th>\n",
       "      <th>Serum_thyroxin</th>\n",
       "      <th>Serum_triiodothyronine</th>\n",
       "      <th>Basal_TSH</th>\n",
       "      <th>Abs_diff_TSH</th>\n",
       "      <th>Outcome</th>\n",
       "    </tr>\n",
       "  </thead>\n",
       "  <tbody>\n",
       "    <tr>\n",
       "      <th>0</th>\n",
       "      <td>107.000000</td>\n",
       "      <td>10.100000</td>\n",
       "      <td>2.2</td>\n",
       "      <td>0.90000</td>\n",
       "      <td>2.7</td>\n",
       "      <td>1.0</td>\n",
       "    </tr>\n",
       "    <tr>\n",
       "      <th>1</th>\n",
       "      <td>108.233129</td>\n",
       "      <td>9.900000</td>\n",
       "      <td>3.1</td>\n",
       "      <td>2.00000</td>\n",
       "      <td>5.9</td>\n",
       "      <td>1.0</td>\n",
       "    </tr>\n",
       "    <tr>\n",
       "      <th>2</th>\n",
       "      <td>127.000000</td>\n",
       "      <td>12.900000</td>\n",
       "      <td>2.4</td>\n",
       "      <td>1.28875</td>\n",
       "      <td>0.6</td>\n",
       "      <td>1.0</td>\n",
       "    </tr>\n",
       "    <tr>\n",
       "      <th>3</th>\n",
       "      <td>109.000000</td>\n",
       "      <td>10.814024</td>\n",
       "      <td>1.6</td>\n",
       "      <td>1.40000</td>\n",
       "      <td>1.5</td>\n",
       "      <td>1.0</td>\n",
       "    </tr>\n",
       "    <tr>\n",
       "      <th>4</th>\n",
       "      <td>105.000000</td>\n",
       "      <td>7.300000</td>\n",
       "      <td>1.5</td>\n",
       "      <td>1.28875</td>\n",
       "      <td>-0.1</td>\n",
       "      <td>1.0</td>\n",
       "    </tr>\n",
       "  </tbody>\n",
       "</table>\n",
       "</div>"
      ],
      "text/plain": [
       "     T3_resin  Serum_thyroxin  Serum_triiodothyronine  Basal_TSH  \\\n",
       "0  107.000000       10.100000                     2.2    0.90000   \n",
       "1  108.233129        9.900000                     3.1    2.00000   \n",
       "2  127.000000       12.900000                     2.4    1.28875   \n",
       "3  109.000000       10.814024                     1.6    1.40000   \n",
       "4  105.000000        7.300000                     1.5    1.28875   \n",
       "\n",
       "   Abs_diff_TSH  Outcome  \n",
       "0           2.7      1.0  \n",
       "1           5.9      1.0  \n",
       "2           0.6      1.0  \n",
       "3           1.5      1.0  \n",
       "4          -0.1      1.0  "
      ]
     },
     "execution_count": 4,
     "metadata": {},
     "output_type": "execute_result"
    }
   ],
   "source": [
    "df.replace(np.NaN,df.mean(),inplace=True)\n",
    "df.head()"
   ]
  },
  {
   "cell_type": "markdown",
   "id": "infinite-ecology",
   "metadata": {},
   "source": [
    "<h4 style=\"direction:rtl;text-align:right;color:#945aaf;background-color:#ffffff;font-size:48p\"><strong>شرح کد :</strong> </h4>\n",
    "\n",
    "<p style=\"direction:rtl;text-align:right;\">ابتدا سایر علائمی که علاوه بر مقادیر استاندارد بجای null استفاده شده اند را تاثیر دادیم و فایل را خواندیم. سپس رکورد هایی را که متغیر تارگت آنها یعنی Outcome  نال بود حذف کردیم و سپس در سایر ستون ها بجای مقادیر null میانگین آن ستون را قرار دادیم</p>\n"
   ]
  },
  {
   "cell_type": "markdown",
   "id": "following-tokyo",
   "metadata": {},
   "source": [
    "<h3 style=\"text-align:left;color:#945aaf;background-color:#ffffff;font-size:48p\"><strong> b) </strong></h3>"
   ]
  },
  {
   "cell_type": "code",
   "execution_count": 5,
   "id": "institutional-eclipse",
   "metadata": {},
   "outputs": [],
   "source": [
    "import seaborn as sns"
   ]
  },
  {
   "cell_type": "code",
   "execution_count": 6,
   "id": "toxic-check",
   "metadata": {},
   "outputs": [
    {
     "data": {
      "text/html": [
       "<div>\n",
       "<style scoped>\n",
       "    .dataframe tbody tr th:only-of-type {\n",
       "        vertical-align: middle;\n",
       "    }\n",
       "\n",
       "    .dataframe tbody tr th {\n",
       "        vertical-align: top;\n",
       "    }\n",
       "\n",
       "    .dataframe thead th {\n",
       "        text-align: right;\n",
       "    }\n",
       "</style>\n",
       "<table border=\"1\" class=\"dataframe\">\n",
       "  <thead>\n",
       "    <tr style=\"text-align: right;\">\n",
       "      <th></th>\n",
       "      <th>T3_resin</th>\n",
       "      <th>Serum_thyroxin</th>\n",
       "      <th>Serum_triiodothyronine</th>\n",
       "      <th>Basal_TSH</th>\n",
       "      <th>Abs_diff_TSH</th>\n",
       "      <th>Outcome</th>\n",
       "    </tr>\n",
       "  </thead>\n",
       "  <tbody>\n",
       "    <tr>\n",
       "      <th>T3_resin</th>\n",
       "      <td>1.000000</td>\n",
       "      <td>-0.225165</td>\n",
       "      <td>-0.028187</td>\n",
       "      <td>0.049092</td>\n",
       "      <td>0.188859</td>\n",
       "      <td>-0.261762</td>\n",
       "    </tr>\n",
       "    <tr>\n",
       "      <th>Serum_thyroxin</th>\n",
       "      <td>-0.225165</td>\n",
       "      <td>1.000000</td>\n",
       "      <td>0.688075</td>\n",
       "      <td>-0.178576</td>\n",
       "      <td>-0.400342</td>\n",
       "      <td>0.785882</td>\n",
       "    </tr>\n",
       "    <tr>\n",
       "      <th>Serum_triiodothyronine</th>\n",
       "      <td>-0.028187</td>\n",
       "      <td>0.688075</td>\n",
       "      <td>1.000000</td>\n",
       "      <td>-0.136191</td>\n",
       "      <td>-0.274896</td>\n",
       "      <td>0.681741</td>\n",
       "    </tr>\n",
       "    <tr>\n",
       "      <th>Basal_TSH</th>\n",
       "      <td>0.049092</td>\n",
       "      <td>-0.178576</td>\n",
       "      <td>-0.136191</td>\n",
       "      <td>1.000000</td>\n",
       "      <td>0.179947</td>\n",
       "      <td>-0.219198</td>\n",
       "    </tr>\n",
       "    <tr>\n",
       "      <th>Abs_diff_TSH</th>\n",
       "      <td>0.188859</td>\n",
       "      <td>-0.400342</td>\n",
       "      <td>-0.274896</td>\n",
       "      <td>0.179947</td>\n",
       "      <td>1.000000</td>\n",
       "      <td>-0.437559</td>\n",
       "    </tr>\n",
       "    <tr>\n",
       "      <th>Outcome</th>\n",
       "      <td>-0.261762</td>\n",
       "      <td>0.785882</td>\n",
       "      <td>0.681741</td>\n",
       "      <td>-0.219198</td>\n",
       "      <td>-0.437559</td>\n",
       "      <td>1.000000</td>\n",
       "    </tr>\n",
       "  </tbody>\n",
       "</table>\n",
       "</div>"
      ],
      "text/plain": [
       "                        T3_resin  Serum_thyroxin  Serum_triiodothyronine  \\\n",
       "T3_resin                1.000000       -0.225165               -0.028187   \n",
       "Serum_thyroxin         -0.225165        1.000000                0.688075   \n",
       "Serum_triiodothyronine -0.028187        0.688075                1.000000   \n",
       "Basal_TSH               0.049092       -0.178576               -0.136191   \n",
       "Abs_diff_TSH            0.188859       -0.400342               -0.274896   \n",
       "Outcome                -0.261762        0.785882                0.681741   \n",
       "\n",
       "                        Basal_TSH  Abs_diff_TSH   Outcome  \n",
       "T3_resin                 0.049092      0.188859 -0.261762  \n",
       "Serum_thyroxin          -0.178576     -0.400342  0.785882  \n",
       "Serum_triiodothyronine  -0.136191     -0.274896  0.681741  \n",
       "Basal_TSH                1.000000      0.179947 -0.219198  \n",
       "Abs_diff_TSH             0.179947      1.000000 -0.437559  \n",
       "Outcome                 -0.219198     -0.437559  1.000000  "
      ]
     },
     "execution_count": 6,
     "metadata": {},
     "output_type": "execute_result"
    }
   ],
   "source": [
    "corrMatrix = df.corr()\n",
    "corrMatrix"
   ]
  },
  {
   "cell_type": "code",
   "execution_count": 7,
   "id": "accompanied-funds",
   "metadata": {},
   "outputs": [
    {
     "data": {
      "text/plain": [
       "<AxesSubplot:>"
      ]
     },
     "execution_count": 7,
     "metadata": {},
     "output_type": "execute_result"
    },
    {
     "data": {
      "image/png": "[encoded data removed]",
      "text/plain": [
       "<Figure size 432x288 with 2 Axes>"
      ]
     },
     "metadata": {
      "needs_background": "light"
     },
     "output_type": "display_data"
    }
   ],
   "source": [
    "sns.heatmap(corrMatrix, annot=True)"
   ]
  },
  {
   "cell_type": "markdown",
   "id": "swiss-forwarding",
   "metadata": {},
   "source": [
    "<h4 style=\"direction:rtl;text-align:right;color:#945aaf;background-color:#ffffff;font-size:48p\"><strong>شرح کد :</strong> </h4>\n",
    "\n",
    "<p style=\"direction:rtl;text-align:right;\">ایتدا ماتریس ضزایب همبستگی را ایجاد کرده و سپس heatmap آن را رسم کردیم. هرچه اعداد به +-1 نزدیک تر باشند همبستگی بیشتر است</p>\n"
   ]
  },
  {
   "cell_type": "markdown",
   "id": "difficult-cream",
   "metadata": {},
   "source": [
    "<h3 style=\"text-align:left;color:#945aaf;background-color:#ffffff;font-size:48p\"><strong> c) </strong></h3>"
   ]
  },
  {
   "cell_type": "code",
   "execution_count": 8,
   "id": "received-witch",
   "metadata": {},
   "outputs": [
    {
     "data": {
      "text/plain": [
       "Outcome\n",
       "1.0    144\n",
       "2.0     30\n",
       "Name: Outcome, dtype: int64"
      ]
     },
     "execution_count": 8,
     "metadata": {},
     "output_type": "execute_result"
    }
   ],
   "source": [
    "c = df.groupby('Outcome')['Outcome'].count()\n",
    "c"
   ]
  },
  {
   "cell_type": "code",
   "execution_count": 9,
   "id": "crucial-october",
   "metadata": {},
   "outputs": [
    {
     "name": "stdout",
     "output_type": "stream",
     "text": [
      "Current Percentage of two/total: 17.24137931034483\n",
      "#Records Needed to Resample To Achieve 50% two/total:  114.0\n"
     ]
    }
   ],
   "source": [
    "print(\"Current Percentage of two/total:\",(30/174)*100)\n",
    "print(\"#Records Needed to Resample To Achieve 50% two/total: \" , ((0.5*174)-30)/0.5) #x = (p(rare)-current)/1-p"
   ]
  },
  {
   "cell_type": "code",
   "execution_count": 10,
   "id": "advised-running",
   "metadata": {},
   "outputs": [
    {
     "name": "stdout",
     "output_type": "stream",
     "text": [
      "Outcome\n",
      "1.0    144\n",
      "2.0    144\n",
      "Name: Outcome, dtype: int64\n",
      "Current Percentage of 2: 50.0\n"
     ]
    }
   ],
   "source": [
    "to_resample = df.loc[df['Outcome'] == 2]\n",
    "our_resample = to_resample.sample(n = 114, replace = True)\n",
    "balanced_df = pd.concat([df, our_resample])\n",
    "print(balanced_df.groupby('Outcome')['Outcome'].count())\n",
    "print(\"Current Percentage of 2:\",(144/(144+144))*100)"
   ]
  },
  {
   "cell_type": "markdown",
   "id": "certified-president",
   "metadata": {},
   "source": [
    "<h4 style=\"direction:rtl;text-align:right;color:#945aaf;background-color:#ffffff;font-size:48p\"><strong>شرح کد :</strong> </h4>\n",
    "\n",
    "<p style=\"direction:rtl;text-align:right;\">در بخش اول دیدیم نسبت رکوردها با کلاس هدف 2 نسبت به کلاس 1به نسبت کمتر است و داده ها  می توانند imbalanced تلقی شوند و در کل کلاس 2،  17 درصد کل را تشکیل داده است.\n",
    "برای رساندن این درصد به 50% به 114 رکورد نیاز داریم. در بخش بعد داده های با کلاس 2 را که می خواهیم سمپل کنیم در to_resample ذخیره می کنیم . 114 تای دیگر مشابه آنها تواید و با دیتاست اصلی concat می کنیم. حال درصد هریک از کلاس ها به 50 رسیده است</p>\n"
   ]
  },
  {
   "cell_type": "markdown",
   "id": "opposite-porcelain",
   "metadata": {},
   "source": [
    "<h3 style=\"text-align:left;color:#945aaf;background-color:#ffffff;font-size:48p\"><strong> d) </strong></h3>"
   ]
  },
  {
   "cell_type": "code",
   "execution_count": 11,
   "id": "preliminary-priest",
   "metadata": {},
   "outputs": [],
   "source": [
    "from sklearn.model_selection import train_test_split"
   ]
  },
  {
   "cell_type": "code",
   "execution_count": 12,
   "id": "polar-karen",
   "metadata": {},
   "outputs": [],
   "source": [
    "X = balanced_df.drop('Outcome', axis=1)\n",
    "y = balanced_df['Outcome']"
   ]
  },
  {
   "cell_type": "code",
   "execution_count": 13,
   "id": "jewish-clinic",
   "metadata": {},
   "outputs": [],
   "source": [
    "X_train, X_test, y_train, y_test = train_test_split(X, y, test_size=0.2)"
   ]
  },
  {
   "cell_type": "markdown",
   "id": "tribal-vaccine",
   "metadata": {},
   "source": [
    "<h4 style=\"direction:rtl;text-align:right;color:#945aaf;background-color:#ffffff;font-size:48p\"><strong>شرح کد :</strong> </h4>\n",
    "\n",
    "<p style=\"direction:rtl;text-align:right;\">ابتدا X وy را جدا کرده و سپس X و y های آموزش و تست را با اندازه تست 0.2 می سازیم.</p>\n"
   ]
  },
  {
   "cell_type": "markdown",
   "id": "express-jewel",
   "metadata": {},
   "source": [
    "<h3 style=\"text-align:left;color:#945aaf;background-color:#ffffff;font-size:48p\"><strong> e) </strong></h3>"
   ]
  },
  {
   "cell_type": "code",
   "execution_count": 14,
   "id": "humanitarian-resident",
   "metadata": {},
   "outputs": [],
   "source": [
    "from sklearn import tree\n",
    "from sklearn.tree import DecisionTreeClassifier"
   ]
  },
  {
   "cell_type": "code",
   "execution_count": 51,
   "id": "after-divide",
   "metadata": {},
   "outputs": [
    {
     "name": "stdout",
     "output_type": "stream",
     "text": [
      "Index(['T3_resin', 'Serum_thyroxin', 'Serum_triiodothyronine', 'Basal_TSH',\n",
      "       'Abs_diff_TSH'],\n",
      "      dtype='object')\n"
     ]
    },
    {
     "data": {
      "text/plain": [
       "[Text(223.20000000000002, 597.96, 'X[1] <= 11.0\\ngini = 0.5\\nsamples = 230\\nvalue = [114, 116]'),\n",
       " Text(111.60000000000001, 489.24, 'gini = 0.0\\nsamples = 96\\nvalue = [96, 0]'),\n",
       " Text(334.8, 489.24, 'X[2] <= 1.55\\ngini = 0.233\\nsamples = 134\\nvalue = [18, 116]'),\n",
       " Text(223.20000000000002, 380.52000000000004, 'gini = 0.0\\nsamples = 8\\nvalue = [8, 0]'),\n",
       " Text(446.40000000000003, 380.52000000000004, 'X[4] <= 2.204\\ngini = 0.146\\nsamples = 126\\nvalue = [10, 116]'),\n",
       " Text(334.8, 271.8, 'X[3] <= 1.9\\ngini = 0.079\\nsamples = 121\\nvalue = [5, 116]'),\n",
       " Text(223.20000000000002, 163.07999999999998, 'X[1] <= 12.95\\ngini = 0.064\\nsamples = 120\\nvalue = [4, 116]'),\n",
       " Text(111.60000000000001, 54.360000000000014, 'gini = 0.278\\nsamples = 24\\nvalue = [4, 20]'),\n",
       " Text(334.8, 54.360000000000014, 'gini = 0.0\\nsamples = 96\\nvalue = [0, 96]'),\n",
       " Text(446.40000000000003, 163.07999999999998, 'gini = 0.0\\nsamples = 1\\nvalue = [1, 0]'),\n",
       " Text(558.0, 271.8, 'gini = 0.0\\nsamples = 5\\nvalue = [5, 0]')]"
      ]
     },
     "execution_count": 51,
     "metadata": {},
     "output_type": "execute_result"
    },
    {
     "data": {
      "image/png": "[encoded data removed]",
      "text/plain": [
       "<Figure size 864x864 with 1 Axes>"
      ]
     },
     "metadata": {
      "needs_background": "light"
     },
     "output_type": "display_data"
    }
   ],
   "source": [
    "cart00 = DecisionTreeClassifier(criterion=\"gini\",max_leaf_nodes=6).fit(X_train,y_train)\n",
    "print(X_train.columns)\n",
    "fig, axes = plt.subplots(1,1,figsize=(12,12))\n",
    "tree.plot_tree(cart00,ax=axes)"
   ]
  },
  {
   "cell_type": "markdown",
   "id": "seven-chain",
   "metadata": {},
   "source": [
    "<h4 style=\"direction:rtl;text-align:right;color:#945aaf;background-color:#ffffff;font-size:48p\"><strong>شرح کد :</strong> </h4>\n",
    "\n",
    "<p style=\"direction:rtl;text-align:right;\">به کمک کتابخانه sklearn یک DecisionTreeClassifier با پارامتر gini ساختیم و با داده های x و y آموزشی آن را train کردیم و درخت ان را پلات کردیم.</p>\n"
   ]
  },
  {
   "cell_type": "markdown",
   "id": "intended-ladder",
   "metadata": {},
   "source": [
    "<h3 style=\"text-align:left;color:#945aaf;background-color:#ffffff;font-size:48p\"><strong> f) </strong></h3>"
   ]
  },
  {
   "cell_type": "code",
   "execution_count": 16,
   "id": "accompanied-mailman",
   "metadata": {},
   "outputs": [],
   "source": [
    "from sklearn.metrics import classification_report, confusion_matrix"
   ]
  },
  {
   "cell_type": "code",
   "execution_count": 17,
   "id": "relevant-merit",
   "metadata": {},
   "outputs": [],
   "source": [
    " y_predicted = cart00.predict(X_test)"
   ]
  },
  {
   "cell_type": "code",
   "execution_count": 18,
   "id": "curious-bleeding",
   "metadata": {},
   "outputs": [
    {
     "name": "stdout",
     "output_type": "stream",
     "text": [
      "[+] confusion matrix\n",
      "\n",
      "[[29  1]\n",
      " [ 0 28]]\n",
      "\n",
      "[+] classification report\n",
      "\n",
      "              precision    recall  f1-score   support\n",
      "\n",
      "         1.0       1.00      0.97      0.98        30\n",
      "         2.0       0.97      1.00      0.98        28\n",
      "\n",
      "    accuracy                           0.98        58\n",
      "   macro avg       0.98      0.98      0.98        58\n",
      "weighted avg       0.98      0.98      0.98        58\n",
      "\n"
     ]
    }
   ],
   "source": [
    "# cart01.score(y_predicted,y_test)\n",
    "\n",
    "print(\"[+] confusion matrix\\n\")\n",
    "print(confusion_matrix(y_test, y_predicted))\n",
    "print(\"\\n[+] classification report\\n\")\n",
    "print(classification_report(y_test, y_predicted))"
   ]
  },
  {
   "cell_type": "markdown",
   "id": "creative-occasion",
   "metadata": {},
   "source": [
    "<h4 style=\"direction:rtl;text-align:right;color:#945aaf;background-color:#ffffff;font-size:48p\"><strong>شرح کد :</strong> </h4>\n",
    "\n",
    "<p style=\"direction:rtl;text-align:right;\">X_test را به مدلcart00 که آموزش دادیم دادیم تا y آن را پیشبینی کند و آنها را در y_predicted ذخیره کردیم.\n",
    "برای سنجش دقت confusion matrix را نمایش دادیم که بیانگر این است که در کل روی 58 داده تست شده است مدل و 1 نمونه به خطا ب بقیه صحیح پیش بینی شده اند و به دقت 98% رسیده ایم.</p>\n"
   ]
  },
  {
   "cell_type": "markdown",
   "id": "prompt-ukraine",
   "metadata": {},
   "source": [
    "<h3 style=\"text-align:left;color:#945aaf;background-color:#ffffff;font-size:48p\"><strong> g) </strong></h3>"
   ]
  },
  {
   "cell_type": "code",
   "execution_count": 19,
   "id": "former-bottle",
   "metadata": {},
   "outputs": [
    {
     "name": "stdout",
     "output_type": "stream",
     "text": [
      "[+] confusion matrix\n",
      "\n",
      "[[25  5]\n",
      " [ 0 28]]\n",
      "\n",
      "[+] classification report\n",
      "\n",
      "              precision    recall  f1-score   support\n",
      "\n",
      "         1.0       1.00      0.83      0.91        30\n",
      "         2.0       0.85      1.00      0.92        28\n",
      "\n",
      "    accuracy                           0.91        58\n",
      "   macro avg       0.92      0.92      0.91        58\n",
      "weighted avg       0.93      0.91      0.91        58\n",
      "\n"
     ]
    }
   ],
   "source": [
    "#max_depth = 1\n",
    "\n",
    "cart01 = DecisionTreeClassifier(criterion=\"gini\",max_leaf_nodes=6,max_depth=1).fit(X_train,y_train)\n",
    "y_predicted01 = cart01.predict(X_test)\n",
    "    \n",
    "print(\"[+] confusion matrix\\n\")\n",
    "print(confusion_matrix(y_test, y_predicted01))\n",
    "print(\"\\n[+] classification report\\n\")\n",
    "print(classification_report(y_test, y_predicted01))"
   ]
  },
  {
   "cell_type": "code",
   "execution_count": 20,
   "id": "seasonal-plenty",
   "metadata": {},
   "outputs": [
    {
     "name": "stdout",
     "output_type": "stream",
     "text": [
      "[+] confusion matrix\n",
      "\n",
      "[[26  4]\n",
      " [ 0 28]]\n",
      "\n",
      "[+] classification report\n",
      "\n",
      "              precision    recall  f1-score   support\n",
      "\n",
      "         1.0       1.00      0.87      0.93        30\n",
      "         2.0       0.88      1.00      0.93        28\n",
      "\n",
      "    accuracy                           0.93        58\n",
      "   macro avg       0.94      0.93      0.93        58\n",
      "weighted avg       0.94      0.93      0.93        58\n",
      "\n"
     ]
    }
   ],
   "source": [
    "#max_depth = 2\n",
    "\n",
    "cart02 = DecisionTreeClassifier(criterion=\"gini\",max_leaf_nodes=6,max_depth=2).fit(X_train,y_train)\n",
    "y_predicted02 = cart02.predict(X_test)\n",
    "    \n",
    "print(\"[+] confusion matrix\\n\")\n",
    "print(confusion_matrix(y_test, y_predicted02))\n",
    "print(\"\\n[+] classification report\\n\")\n",
    "print(classification_report(y_test, y_predicted02))"
   ]
  },
  {
   "cell_type": "code",
   "execution_count": 21,
   "id": "clean-advocacy",
   "metadata": {},
   "outputs": [
    {
     "name": "stdout",
     "output_type": "stream",
     "text": [
      "[+] confusion matrix\n",
      "\n",
      "[[28  2]\n",
      " [ 0 28]]\n",
      "\n",
      "[+] classification report\n",
      "\n",
      "              precision    recall  f1-score   support\n",
      "\n",
      "         1.0       1.00      0.93      0.97        30\n",
      "         2.0       0.93      1.00      0.97        28\n",
      "\n",
      "    accuracy                           0.97        58\n",
      "   macro avg       0.97      0.97      0.97        58\n",
      "weighted avg       0.97      0.97      0.97        58\n",
      "\n"
     ]
    }
   ],
   "source": [
    "#max_depth = 3\n",
    "\n",
    "cart03 = DecisionTreeClassifier(criterion=\"gini\",max_leaf_nodes=6,max_depth=3).fit(X_train,y_train)\n",
    "y_predicted03 = cart03.predict(X_test)\n",
    "    \n",
    "print(\"[+] confusion matrix\\n\")\n",
    "print(confusion_matrix(y_test, y_predicted03))\n",
    "print(\"\\n[+] classification report\\n\")\n",
    "print(classification_report(y_test, y_predicted03))"
   ]
  },
  {
   "cell_type": "code",
   "execution_count": 22,
   "id": "synthetic-provider",
   "metadata": {},
   "outputs": [
    {
     "name": "stdout",
     "output_type": "stream",
     "text": [
      "[+] confusion matrix\n",
      "\n",
      "[[29  1]\n",
      " [ 0 28]]\n",
      "\n",
      "[+] classification report\n",
      "\n",
      "              precision    recall  f1-score   support\n",
      "\n",
      "         1.0       1.00      0.97      0.98        30\n",
      "         2.0       0.97      1.00      0.98        28\n",
      "\n",
      "    accuracy                           0.98        58\n",
      "   macro avg       0.98      0.98      0.98        58\n",
      "weighted avg       0.98      0.98      0.98        58\n",
      "\n"
     ]
    }
   ],
   "source": [
    "#max_depth = 4\n",
    "\n",
    "cart04 = DecisionTreeClassifier(criterion=\"gini\",max_leaf_nodes=6,max_depth=4).fit(X_train,y_train)\n",
    "y_predicted04 = cart04.predict(X_test)\n",
    "    \n",
    "print(\"[+] confusion matrix\\n\")\n",
    "print(confusion_matrix(y_test, y_predicted04))\n",
    "print(\"\\n[+] classification report\\n\")\n",
    "print(classification_report(y_test, y_predicted04))"
   ]
  },
  {
   "cell_type": "code",
   "execution_count": 23,
   "id": "another-commons",
   "metadata": {},
   "outputs": [
    {
     "name": "stdout",
     "output_type": "stream",
     "text": [
      "[+] confusion matrix\n",
      "\n",
      "[[29  1]\n",
      " [ 0 28]]\n",
      "\n",
      "[+] classification report\n",
      "\n",
      "              precision    recall  f1-score   support\n",
      "\n",
      "         1.0       1.00      0.97      0.98        30\n",
      "         2.0       0.97      1.00      0.98        28\n",
      "\n",
      "    accuracy                           0.98        58\n",
      "   macro avg       0.98      0.98      0.98        58\n",
      "weighted avg       0.98      0.98      0.98        58\n",
      "\n"
     ]
    }
   ],
   "source": [
    "#max_depth = 5\n",
    "\n",
    "cart05 = DecisionTreeClassifier(criterion=\"gini\",max_leaf_nodes=6,max_depth=5).fit(X_train,y_train)\n",
    "y_predicted05 = cart05.predict(X_test)\n",
    "    \n",
    "print(\"[+] confusion matrix\\n\")\n",
    "print(confusion_matrix(y_test, y_predicted05))\n",
    "print(\"\\n[+] classification report\\n\")\n",
    "print(classification_report(y_test, y_predicted05))"
   ]
  },
  {
   "cell_type": "code",
   "execution_count": 24,
   "id": "distant-ranking",
   "metadata": {},
   "outputs": [
    {
     "name": "stdout",
     "output_type": "stream",
     "text": [
      "[+] confusion matrix\n",
      "\n",
      "[[29  1]\n",
      " [ 0 28]]\n",
      "\n",
      "[+] classification report\n",
      "\n",
      "              precision    recall  f1-score   support\n",
      "\n",
      "         1.0       1.00      0.97      0.98        30\n",
      "         2.0       0.97      1.00      0.98        28\n",
      "\n",
      "    accuracy                           0.98        58\n",
      "   macro avg       0.98      0.98      0.98        58\n",
      "weighted avg       0.98      0.98      0.98        58\n",
      "\n"
     ]
    }
   ],
   "source": [
    "#max_depth = 6\n",
    "\n",
    "cart06 = DecisionTreeClassifier(criterion=\"gini\",max_leaf_nodes=6,max_depth=6).fit(X_train,y_train)\n",
    "y_predicted06 = cart06.predict(X_test)\n",
    "    \n",
    "print(\"[+] confusion matrix\\n\")\n",
    "print(confusion_matrix(y_test, y_predicted06))\n",
    "print(\"\\n[+] classification report\\n\")\n",
    "print(classification_report(y_test, y_predicted06))"
   ]
  },
  {
   "cell_type": "code",
   "execution_count": 25,
   "id": "bacterial-relaxation",
   "metadata": {},
   "outputs": [
    {
     "name": "stdout",
     "output_type": "stream",
     "text": [
      "[+] confusion matrix\n",
      "\n",
      "[[29  1]\n",
      " [ 0 28]]\n",
      "\n",
      "[+] classification report\n",
      "\n",
      "              precision    recall  f1-score   support\n",
      "\n",
      "         1.0       1.00      0.97      0.98        30\n",
      "         2.0       0.97      1.00      0.98        28\n",
      "\n",
      "    accuracy                           0.98        58\n",
      "   macro avg       0.98      0.98      0.98        58\n",
      "weighted avg       0.98      0.98      0.98        58\n",
      "\n"
     ]
    }
   ],
   "source": [
    "#max_depth = 7\n",
    "\n",
    "cart07 = DecisionTreeClassifier(criterion=\"gini\",max_leaf_nodes=6,max_depth=7).fit(X_train,y_train)\n",
    "y_predicted07 = cart07.predict(X_test)\n",
    "    \n",
    "print(\"[+] confusion matrix\\n\")\n",
    "print(confusion_matrix(y_test, y_predicted07))\n",
    "print(\"\\n[+] classification report\\n\")\n",
    "print(classification_report(y_test, y_predicted07))"
   ]
  },
  {
   "cell_type": "code",
   "execution_count": 26,
   "id": "recreational-serbia",
   "metadata": {},
   "outputs": [
    {
     "name": "stdout",
     "output_type": "stream",
     "text": [
      "[+] confusion matrix\n",
      "\n",
      "[[29  1]\n",
      " [ 0 28]]\n",
      "\n",
      "[+] classification report\n",
      "\n",
      "              precision    recall  f1-score   support\n",
      "\n",
      "         1.0       1.00      0.97      0.98        30\n",
      "         2.0       0.97      1.00      0.98        28\n",
      "\n",
      "    accuracy                           0.98        58\n",
      "   macro avg       0.98      0.98      0.98        58\n",
      "weighted avg       0.98      0.98      0.98        58\n",
      "\n"
     ]
    }
   ],
   "source": [
    "#max_depth = 8\n",
    "\n",
    "cart08 = DecisionTreeClassifier(criterion=\"gini\",max_leaf_nodes=6,max_depth=8).fit(X_train,y_train)\n",
    "y_predicted08 = cart08.predict(X_test)\n",
    "    \n",
    "print(\"[+] confusion matrix\\n\")\n",
    "print(confusion_matrix(y_test, y_predicted08))\n",
    "print(\"\\n[+] classification report\\n\")\n",
    "print(classification_report(y_test, y_predicted08))"
   ]
  },
  {
   "cell_type": "code",
   "execution_count": 27,
   "id": "endless-blocking",
   "metadata": {},
   "outputs": [
    {
     "name": "stdout",
     "output_type": "stream",
     "text": [
      "[+] confusion matrix\n",
      "\n",
      "[[29  1]\n",
      " [ 0 28]]\n",
      "\n",
      "[+] classification report\n",
      "\n",
      "              precision    recall  f1-score   support\n",
      "\n",
      "         1.0       1.00      0.97      0.98        30\n",
      "         2.0       0.97      1.00      0.98        28\n",
      "\n",
      "    accuracy                           0.98        58\n",
      "   macro avg       0.98      0.98      0.98        58\n",
      "weighted avg       0.98      0.98      0.98        58\n",
      "\n"
     ]
    }
   ],
   "source": [
    "#max_depth = 9\n",
    "\n",
    "cart09 = DecisionTreeClassifier(criterion=\"gini\",max_leaf_nodes=6,max_depth=9).fit(X_train,y_train)\n",
    "y_predicted09 = cart09.predict(X_test)\n",
    "    \n",
    "print(\"[+] confusion matrix\\n\")\n",
    "print(confusion_matrix(y_test, y_predicted09))\n",
    "print(\"\\n[+] classification report\\n\")\n",
    "print(classification_report(y_test, y_predicted09))"
   ]
  },
  {
   "cell_type": "markdown",
   "id": "congressional-bubble",
   "metadata": {},
   "source": [
    "<h4 style=\"direction:rtl;text-align:right;font-family:Yekan, sans-serif;color:#945aaf;background-color:#ffffff;font-size:48p\"><strong>شرح کد :</strong> </h4>\n",
    "\n",
    "<h4 style=\"direction:rtl\">برای بیش از 4 به 98% دقت رسیده و در هر مورد 1 خطا داشته ایم. </h4>\n"
   ]
  },
  {
   "cell_type": "markdown",
   "id": "floppy-springer",
   "metadata": {},
   "source": [
    "<h3 style=\"text-align:left;color:#945aaf;background-color:#ffffff;font-size:48p\"><strong> h) </strong></h3>"
   ]
  },
  {
   "cell_type": "code",
   "execution_count": 44,
   "id": "specified-startup",
   "metadata": {},
   "outputs": [
    {
     "name": "stdout",
     "output_type": "stream",
     "text": [
      "Feature 0 (T3_resin) :  Score: 0.00000\n",
      "Feature 1 (Serum_thyroxin) :  Score: 0.78370\n",
      "Feature 2 (Serum_triiodothyronine) :  Score: 0.11772\n",
      "Feature 3 (Basal_TSH) :  Score: 0.01711\n",
      "Feature 4 (Abs_diff_TSH) :  Score: 0.08148\n"
     ]
    },
    {
     "data": {
      "image/png": "[encoded data removed]",
      "text/plain": [
       "<Figure size 720x360 with 1 Axes>"
      ]
     },
     "metadata": {
      "needs_background": "light"
     },
     "output_type": "display_data"
    }
   ],
   "source": [
    "importance = cart00.feature_importances_\n",
    "for i,v in enumerate(importance):\n",
    "    print('Feature %0d (%s) :  Score: %.5f' % (i,X_train.columns[i],v))\n",
    "    \n",
    "fig, axes = plt.subplots(1,1,figsize=(10,5))\n",
    "plt.bar([x for x in X_train.columns], importance)\n",
    "plt.show()"
   ]
  },
  {
   "cell_type": "markdown",
   "id": "gothic-delicious",
   "metadata": {},
   "source": [
    "<h4 style=\"direction:rtl;text-align:right;color:#945aaf;background-color:#ffffff;font-size:48p\"><strong>شرح کد :</strong> </h4>\n",
    "<p style=\"direction:rtl;text-align:right;\">Feature Importance به روش هایی گفته می شود که بر حسب اینکه یک متغیر یا فیچر چقدر در پیش بینی متغیر هدف مهم و اثرگدار است به آن یک ارزش داده می شود.</p>\n",
    "<p style=\"direction:rtl;text-align:right;\">در مدل های پیشگو اهمیت بالایی دارد و علاوه بر اینکه در مورد دیتا و مدل به ما دید می دهد مبنای کاهش ابعاد و انتخاب فیچر هم هست. به ما نشان می دهد که کدام فیچر ها به فیچر هدف مرتبط تر هستند و کدام دورتر. در این کار را متخصص بیزینس هم می تواند کمک کند تا بتوانیم داده های مناسب تری هم جمع آوری کنیم. همچنین چون عمدتا این مقدار پس از fit شدن مدل روی داده ها محاسبه می شود دردگاه خوبی هم در مورد مدل ما و فیچرهای مهم برای آن ارائه می دهد.به این صورت ما می توانیم فیچرهایی را که برای مدل ما مهم تر هستند نگه داریم و از بقیه صرف نظر کنیم. </p>\n",
    "<p style=\"direction:rtl;text-align:right;\">هرچه feature_importances_ بالاتر باشد ، ویژگی مهمتر است.به عنوان اهمیت جینی نیز شناخته می شود</p>\n",
    "<p style=\"direction:rtl;text-align:right;\">همانطور که از اعداد و نمودار فوق مشخص است serum_thyroxin مهم ترین فیچر برای پیش بینی Outcome است و سایر فیچر ها هم به ترتیب مشخض شده اند.</p>\n"
   ]
  },
  {
   "cell_type": "markdown",
   "id": "cardiac-newsletter",
   "metadata": {},
   "source": [
    "<h3 style=\"text-align:left;color:#945aaf;background-color:#ffffff;font-size:48p\"><strong> i) </strong></h3>"
   ]
  },
  {
   "cell_type": "code",
   "execution_count": 29,
   "id": "improving-pressure",
   "metadata": {},
   "outputs": [],
   "source": [
    "from sklearn.tree import export_graphviz\n",
    "import pydotplus\n",
    "import graphviz"
   ]
  },
  {
   "cell_type": "code",
   "execution_count": 52,
   "id": "tropical-hudson",
   "metadata": {},
   "outputs": [
    {
     "data": {
      "image/svg+xml": [
       "<?xml version=\"1.0\" encoding=\"UTF-8\" standalone=\"no\"?>\r\n",
       "<!DOCTYPE svg PUBLIC \"-//W3C//DTD SVG 1.1//EN\"\r\n",
       " \"http://www.w3.org/Graphics/SVG/1.1/DTD/svg11.dtd\">\r\n",
       "<!-- Generated by graphviz version 2.47.0 (20210316.0004)\r\n",
       " -->\r\n",
       "<!-- Title: Tree Pages: 1 -->\r\n",
       "<svg width=\"450pt\" height=\"671pt\"\r\n",
       " viewBox=\"0.00 0.00 450.00 671.00\" xmlns=\"http://www.w3.org/2000/svg\" xmlns:xlink=\"http://www.w3.org/1999/xlink\">\r\n",
       "<g id=\"graph0\" class=\"graph\" transform=\"scale(1 1) rotate(0) translate(4 667)\">\r\n",
       "<title>Tree</title>\r\n",
       "<polygon fill=\"white\" stroke=\"transparent\" points=\"-4,4 -4,-667 446,-667 446,4 -4,4\"/>\r\n",
       "<!-- 0 -->\r\n",
       "<g id=\"node1\" class=\"node\">\r\n",
       "<title>0</title>\r\n",
       "<polygon fill=\"#fcfdff\" stroke=\"black\" points=\"224.5,-663 70.5,-663 70.5,-580 224.5,-580 224.5,-663\"/>\r\n",
       "<text text-anchor=\"middle\" x=\"147.5\" y=\"-647.8\" font-family=\"Times New Roman,serif\" font-size=\"14.00\">Serum_thyroxin &lt;= 11.0</text>\r\n",
       "<text text-anchor=\"middle\" x=\"147.5\" y=\"-632.8\" font-family=\"Times New Roman,serif\" font-size=\"14.00\">gini = 0.5</text>\r\n",
       "<text text-anchor=\"middle\" x=\"147.5\" y=\"-617.8\" font-family=\"Times New Roman,serif\" font-size=\"14.00\">samples = 230</text>\r\n",
       "<text text-anchor=\"middle\" x=\"147.5\" y=\"-602.8\" font-family=\"Times New Roman,serif\" font-size=\"14.00\">value = [114, 116]</text>\r\n",
       "<text text-anchor=\"middle\" x=\"147.5\" y=\"-587.8\" font-family=\"Times New Roman,serif\" font-size=\"14.00\">class = Outcome2</text>\r\n",
       "</g>\r\n",
       "<!-- 1 -->\r\n",
       "<g id=\"node2\" class=\"node\">\r\n",
       "<title>1</title>\r\n",
       "<polygon fill=\"#e58139\" stroke=\"black\" points=\"119,-536.5 0,-536.5 0,-468.5 119,-468.5 119,-536.5\"/>\r\n",
       "<text text-anchor=\"middle\" x=\"59.5\" y=\"-521.3\" font-family=\"Times New Roman,serif\" font-size=\"14.00\">gini = 0.0</text>\r\n",
       "<text text-anchor=\"middle\" x=\"59.5\" y=\"-506.3\" font-family=\"Times New Roman,serif\" font-size=\"14.00\">samples = 96</text>\r\n",
       "<text text-anchor=\"middle\" x=\"59.5\" y=\"-491.3\" font-family=\"Times New Roman,serif\" font-size=\"14.00\">value = [96, 0]</text>\r\n",
       "<text text-anchor=\"middle\" x=\"59.5\" y=\"-476.3\" font-family=\"Times New Roman,serif\" font-size=\"14.00\">class = Outcome1</text>\r\n",
       "</g>\r\n",
       "<!-- 0&#45;&gt;1 -->\r\n",
       "<g id=\"edge1\" class=\"edge\">\r\n",
       "<title>0&#45;&gt;1</title>\r\n",
       "<path fill=\"none\" stroke=\"black\" d=\"M116.97,-579.91C108.42,-568.54 99.12,-556.18 90.54,-544.77\"/>\r\n",
       "<polygon fill=\"black\" stroke=\"black\" points=\"93.25,-542.55 84.45,-536.67 87.66,-546.76 93.25,-542.55\"/>\r\n",
       "<text text-anchor=\"middle\" x=\"80.94\" y=\"-557.72\" font-family=\"Times New Roman,serif\" font-size=\"14.00\">True</text>\r\n",
       "</g>\r\n",
       "<!-- 2 -->\r\n",
       "<g id=\"node3\" class=\"node\">\r\n",
       "<title>2</title>\r\n",
       "<polygon fill=\"#58ace9\" stroke=\"black\" points=\"334,-544 137,-544 137,-461 334,-461 334,-544\"/>\r\n",
       "<text text-anchor=\"middle\" x=\"235.5\" y=\"-528.8\" font-family=\"Times New Roman,serif\" font-size=\"14.00\">Serum_triiodothyronine &lt;= 1.55</text>\r\n",
       "<text text-anchor=\"middle\" x=\"235.5\" y=\"-513.8\" font-family=\"Times New Roman,serif\" font-size=\"14.00\">gini = 0.233</text>\r\n",
       "<text text-anchor=\"middle\" x=\"235.5\" y=\"-498.8\" font-family=\"Times New Roman,serif\" font-size=\"14.00\">samples = 134</text>\r\n",
       "<text text-anchor=\"middle\" x=\"235.5\" y=\"-483.8\" font-family=\"Times New Roman,serif\" font-size=\"14.00\">value = [18, 116]</text>\r\n",
       "<text text-anchor=\"middle\" x=\"235.5\" y=\"-468.8\" font-family=\"Times New Roman,serif\" font-size=\"14.00\">class = Outcome2</text>\r\n",
       "</g>\r\n",
       "<!-- 0&#45;&gt;2 -->\r\n",
       "<g id=\"edge2\" class=\"edge\">\r\n",
       "<title>0&#45;&gt;2</title>\r\n",
       "<path fill=\"none\" stroke=\"black\" d=\"M178.03,-579.91C184.79,-570.92 192.02,-561.32 198.98,-552.05\"/>\r\n",
       "<polygon fill=\"black\" stroke=\"black\" points=\"201.81,-554.12 205.02,-544.02 196.21,-549.91 201.81,-554.12\"/>\r\n",
       "<text text-anchor=\"middle\" x=\"208.52\" y=\"-565.07\" font-family=\"Times New Roman,serif\" font-size=\"14.00\">False</text>\r\n",
       "</g>\r\n",
       "<!-- 3 -->\r\n",
       "<g id=\"node4\" class=\"node\">\r\n",
       "<title>3</title>\r\n",
       "<polygon fill=\"#e58139\" stroke=\"black\" points=\"217,-417.5 98,-417.5 98,-349.5 217,-349.5 217,-417.5\"/>\r\n",
       "<text text-anchor=\"middle\" x=\"157.5\" y=\"-402.3\" font-family=\"Times New Roman,serif\" font-size=\"14.00\">gini = 0.0</text>\r\n",
       "<text text-anchor=\"middle\" x=\"157.5\" y=\"-387.3\" font-family=\"Times New Roman,serif\" font-size=\"14.00\">samples = 8</text>\r\n",
       "<text text-anchor=\"middle\" x=\"157.5\" y=\"-372.3\" font-family=\"Times New Roman,serif\" font-size=\"14.00\">value = [8, 0]</text>\r\n",
       "<text text-anchor=\"middle\" x=\"157.5\" y=\"-357.3\" font-family=\"Times New Roman,serif\" font-size=\"14.00\">class = Outcome1</text>\r\n",
       "</g>\r\n",
       "<!-- 2&#45;&gt;3 -->\r\n",
       "<g id=\"edge3\" class=\"edge\">\r\n",
       "<title>2&#45;&gt;3</title>\r\n",
       "<path fill=\"none\" stroke=\"black\" d=\"M208.44,-460.91C200.93,-449.65 192.78,-437.42 185.24,-426.11\"/>\r\n",
       "<polygon fill=\"black\" stroke=\"black\" points=\"188.07,-424.05 179.61,-417.67 182.25,-427.93 188.07,-424.05\"/>\r\n",
       "</g>\r\n",
       "<!-- 4 -->\r\n",
       "<g id=\"node5\" class=\"node\">\r\n",
       "<title>4</title>\r\n",
       "<polygon fill=\"#4aa5e7\" stroke=\"black\" points=\"391.5,-425 235.5,-425 235.5,-342 391.5,-342 391.5,-425\"/>\r\n",
       "<text text-anchor=\"middle\" x=\"313.5\" y=\"-409.8\" font-family=\"Times New Roman,serif\" font-size=\"14.00\">Abs_diff_TSH &lt;= 2.204</text>\r\n",
       "<text text-anchor=\"middle\" x=\"313.5\" y=\"-394.8\" font-family=\"Times New Roman,serif\" font-size=\"14.00\">gini = 0.146</text>\r\n",
       "<text text-anchor=\"middle\" x=\"313.5\" y=\"-379.8\" font-family=\"Times New Roman,serif\" font-size=\"14.00\">samples = 126</text>\r\n",
       "<text text-anchor=\"middle\" x=\"313.5\" y=\"-364.8\" font-family=\"Times New Roman,serif\" font-size=\"14.00\">value = [10, 116]</text>\r\n",
       "<text text-anchor=\"middle\" x=\"313.5\" y=\"-349.8\" font-family=\"Times New Roman,serif\" font-size=\"14.00\">class = Outcome2</text>\r\n",
       "</g>\r\n",
       "<!-- 2&#45;&gt;4 -->\r\n",
       "<g id=\"edge4\" class=\"edge\">\r\n",
       "<title>2&#45;&gt;4</title>\r\n",
       "<path fill=\"none\" stroke=\"black\" d=\"M262.56,-460.91C268.43,-452.1 274.7,-442.7 280.76,-433.61\"/>\r\n",
       "<polygon fill=\"black\" stroke=\"black\" points=\"283.85,-435.28 286.49,-425.02 278.03,-431.4 283.85,-435.28\"/>\r\n",
       "</g>\r\n",
       "<!-- 5 -->\r\n",
       "<g id=\"node6\" class=\"node\">\r\n",
       "<title>5</title>\r\n",
       "<polygon fill=\"#42a1e6\" stroke=\"black\" points=\"304.5,-306 182.5,-306 182.5,-223 304.5,-223 304.5,-306\"/>\r\n",
       "<text text-anchor=\"middle\" x=\"243.5\" y=\"-290.8\" font-family=\"Times New Roman,serif\" font-size=\"14.00\">Basal_TSH &lt;= 1.9</text>\r\n",
       "<text text-anchor=\"middle\" x=\"243.5\" y=\"-275.8\" font-family=\"Times New Roman,serif\" font-size=\"14.00\">gini = 0.079</text>\r\n",
       "<text text-anchor=\"middle\" x=\"243.5\" y=\"-260.8\" font-family=\"Times New Roman,serif\" font-size=\"14.00\">samples = 121</text>\r\n",
       "<text text-anchor=\"middle\" x=\"243.5\" y=\"-245.8\" font-family=\"Times New Roman,serif\" font-size=\"14.00\">value = [5, 116]</text>\r\n",
       "<text text-anchor=\"middle\" x=\"243.5\" y=\"-230.8\" font-family=\"Times New Roman,serif\" font-size=\"14.00\">class = Outcome2</text>\r\n",
       "</g>\r\n",
       "<!-- 4&#45;&gt;5 -->\r\n",
       "<g id=\"edge5\" class=\"edge\">\r\n",
       "<title>4&#45;&gt;5</title>\r\n",
       "<path fill=\"none\" stroke=\"black\" d=\"M289.21,-341.91C283.95,-333.1 278.32,-323.7 272.88,-314.61\"/>\r\n",
       "<polygon fill=\"black\" stroke=\"black\" points=\"275.88,-312.81 267.74,-306.02 269.87,-316.4 275.88,-312.81\"/>\r\n",
       "</g>\r\n",
       "<!-- 6 -->\r\n",
       "<g id=\"node11\" class=\"node\">\r\n",
       "<title>6</title>\r\n",
       "<polygon fill=\"#e58139\" stroke=\"black\" points=\"442,-298.5 323,-298.5 323,-230.5 442,-230.5 442,-298.5\"/>\r\n",
       "<text text-anchor=\"middle\" x=\"382.5\" y=\"-283.3\" font-family=\"Times New Roman,serif\" font-size=\"14.00\">gini = 0.0</text>\r\n",
       "<text text-anchor=\"middle\" x=\"382.5\" y=\"-268.3\" font-family=\"Times New Roman,serif\" font-size=\"14.00\">samples = 5</text>\r\n",
       "<text text-anchor=\"middle\" x=\"382.5\" y=\"-253.3\" font-family=\"Times New Roman,serif\" font-size=\"14.00\">value = [5, 0]</text>\r\n",
       "<text text-anchor=\"middle\" x=\"382.5\" y=\"-238.3\" font-family=\"Times New Roman,serif\" font-size=\"14.00\">class = Outcome1</text>\r\n",
       "</g>\r\n",
       "<!-- 4&#45;&gt;6 -->\r\n",
       "<g id=\"edge10\" class=\"edge\">\r\n",
       "<title>4&#45;&gt;6</title>\r\n",
       "<path fill=\"none\" stroke=\"black\" d=\"M337.44,-341.91C344.01,-330.76 351.15,-318.66 357.77,-307.44\"/>\r\n",
       "<polygon fill=\"black\" stroke=\"black\" points=\"360.87,-309.06 362.94,-298.67 354.85,-305.5 360.87,-309.06\"/>\r\n",
       "</g>\r\n",
       "<!-- 7 -->\r\n",
       "<g id=\"node7\" class=\"node\">\r\n",
       "<title>7</title>\r\n",
       "<polygon fill=\"#40a0e6\" stroke=\"black\" points=\"245,-187 84,-187 84,-104 245,-104 245,-187\"/>\r\n",
       "<text text-anchor=\"middle\" x=\"164.5\" y=\"-171.8\" font-family=\"Times New Roman,serif\" font-size=\"14.00\">Serum_thyroxin &lt;= 12.95</text>\r\n",
       "<text text-anchor=\"middle\" x=\"164.5\" y=\"-156.8\" font-family=\"Times New Roman,serif\" font-size=\"14.00\">gini = 0.064</text>\r\n",
       "<text text-anchor=\"middle\" x=\"164.5\" y=\"-141.8\" font-family=\"Times New Roman,serif\" font-size=\"14.00\">samples = 120</text>\r\n",
       "<text text-anchor=\"middle\" x=\"164.5\" y=\"-126.8\" font-family=\"Times New Roman,serif\" font-size=\"14.00\">value = [4, 116]</text>\r\n",
       "<text text-anchor=\"middle\" x=\"164.5\" y=\"-111.8\" font-family=\"Times New Roman,serif\" font-size=\"14.00\">class = Outcome2</text>\r\n",
       "</g>\r\n",
       "<!-- 5&#45;&gt;7 -->\r\n",
       "<g id=\"edge6\" class=\"edge\">\r\n",
       "<title>5&#45;&gt;7</title>\r\n",
       "<path fill=\"none\" stroke=\"black\" d=\"M216.09,-222.91C210.09,-214.01 203.67,-204.51 197.47,-195.33\"/>\r\n",
       "<polygon fill=\"black\" stroke=\"black\" points=\"200.36,-193.35 191.86,-187.02 194.56,-197.27 200.36,-193.35\"/>\r\n",
       "</g>\r\n",
       "<!-- 8 -->\r\n",
       "<g id=\"node10\" class=\"node\">\r\n",
       "<title>8</title>\r\n",
       "<polygon fill=\"#e58139\" stroke=\"black\" points=\"382,-179.5 263,-179.5 263,-111.5 382,-111.5 382,-179.5\"/>\r\n",
       "<text text-anchor=\"middle\" x=\"322.5\" y=\"-164.3\" font-family=\"Times New Roman,serif\" font-size=\"14.00\">gini = 0.0</text>\r\n",
       "<text text-anchor=\"middle\" x=\"322.5\" y=\"-149.3\" font-family=\"Times New Roman,serif\" font-size=\"14.00\">samples = 1</text>\r\n",
       "<text text-anchor=\"middle\" x=\"322.5\" y=\"-134.3\" font-family=\"Times New Roman,serif\" font-size=\"14.00\">value = [1, 0]</text>\r\n",
       "<text text-anchor=\"middle\" x=\"322.5\" y=\"-119.3\" font-family=\"Times New Roman,serif\" font-size=\"14.00\">class = Outcome1</text>\r\n",
       "</g>\r\n",
       "<!-- 5&#45;&gt;8 -->\r\n",
       "<g id=\"edge9\" class=\"edge\">\r\n",
       "<title>5&#45;&gt;8</title>\r\n",
       "<path fill=\"none\" stroke=\"black\" d=\"M270.91,-222.91C278.51,-211.65 286.77,-199.42 294.41,-188.11\"/>\r\n",
       "<polygon fill=\"black\" stroke=\"black\" points=\"297.41,-189.91 300.11,-179.67 291.61,-186 297.41,-189.91\"/>\r\n",
       "</g>\r\n",
       "<!-- 9 -->\r\n",
       "<g id=\"node8\" class=\"node\">\r\n",
       "<title>9</title>\r\n",
       "<polygon fill=\"#61b1ea\" stroke=\"black\" points=\"156,-68 37,-68 37,0 156,0 156,-68\"/>\r\n",
       "<text text-anchor=\"middle\" x=\"96.5\" y=\"-52.8\" font-family=\"Times New Roman,serif\" font-size=\"14.00\">gini = 0.278</text>\r\n",
       "<text text-anchor=\"middle\" x=\"96.5\" y=\"-37.8\" font-family=\"Times New Roman,serif\" font-size=\"14.00\">samples = 24</text>\r\n",
       "<text text-anchor=\"middle\" x=\"96.5\" y=\"-22.8\" font-family=\"Times New Roman,serif\" font-size=\"14.00\">value = [4, 20]</text>\r\n",
       "<text text-anchor=\"middle\" x=\"96.5\" y=\"-7.8\" font-family=\"Times New Roman,serif\" font-size=\"14.00\">class = Outcome2</text>\r\n",
       "</g>\r\n",
       "<!-- 7&#45;&gt;9 -->\r\n",
       "<g id=\"edge7\" class=\"edge\">\r\n",
       "<title>7&#45;&gt;9</title>\r\n",
       "<path fill=\"none\" stroke=\"black\" d=\"M139.18,-103.73C133.74,-94.97 127.99,-85.7 122.52,-76.91\"/>\r\n",
       "<polygon fill=\"black\" stroke=\"black\" points=\"125.43,-74.95 117.18,-68.3 119.48,-78.64 125.43,-74.95\"/>\r\n",
       "</g>\r\n",
       "<!-- 10 -->\r\n",
       "<g id=\"node9\" class=\"node\">\r\n",
       "<title>10</title>\r\n",
       "<polygon fill=\"#399de5\" stroke=\"black\" points=\"293,-68 174,-68 174,0 293,0 293,-68\"/>\r\n",
       "<text text-anchor=\"middle\" x=\"233.5\" y=\"-52.8\" font-family=\"Times New Roman,serif\" font-size=\"14.00\">gini = 0.0</text>\r\n",
       "<text text-anchor=\"middle\" x=\"233.5\" y=\"-37.8\" font-family=\"Times New Roman,serif\" font-size=\"14.00\">samples = 96</text>\r\n",
       "<text text-anchor=\"middle\" x=\"233.5\" y=\"-22.8\" font-family=\"Times New Roman,serif\" font-size=\"14.00\">value = [0, 96]</text>\r\n",
       "<text text-anchor=\"middle\" x=\"233.5\" y=\"-7.8\" font-family=\"Times New Roman,serif\" font-size=\"14.00\">class = Outcome2</text>\r\n",
       "</g>\r\n",
       "<!-- 7&#45;&gt;10 -->\r\n",
       "<g id=\"edge8\" class=\"edge\">\r\n",
       "<title>7&#45;&gt;10</title>\r\n",
       "<path fill=\"none\" stroke=\"black\" d=\"M190.19,-103.73C195.71,-94.97 201.55,-85.7 207.09,-76.91\"/>\r\n",
       "<polygon fill=\"black\" stroke=\"black\" points=\"210.15,-78.63 212.52,-68.3 204.22,-74.89 210.15,-78.63\"/>\r\n",
       "</g>\r\n",
       "</g>\r\n",
       "</svg>\r\n"
      ],
      "text/plain": [
       "<graphviz.files.Source at 0x24e294425b0>"
      ]
     },
     "execution_count": 52,
     "metadata": {},
     "output_type": "execute_result"
    }
   ],
   "source": [
    "export_graphviz(cart09, out_file=\"tree.dot\", class_names=[\"Outcome1\", \"Outcome2\"],feature_names=X_train.columns, impurity=True, filled=True)\n",
    "\n",
    "with open(\"tree.dot\") as f:\n",
    "    dot_graph = f.read()\n",
    "graphviz.Source(dot_graph)"
   ]
  },
  {
   "cell_type": "markdown",
   "id": "fourth-liechtenstein",
   "metadata": {},
   "source": [
    "<h4 style=\"direction:rtl;text-align:right;color:#945aaf;background-color:#ffffff;font-size:48p\"><strong>شرح کد :</strong> </h4>\n",
    "<p style=\"direction:rtl;text-align:right;\">درخت با max_depth=9 به 98درصد دقت می رسد پس آن برای رسم انتخاب شده است.درخت مربوط به آن را در فایلtree.dot با کلاس های متغیر هدف Outcome1و Outcome2 و اسامی فیچرهای معادل نام ستون هایX_train ذخیره کردایم. سپی فایل را خوانده و به کمک همان graphviz درخت را نمایش دادیم. در ادامه نیز به روش دیگری آن را نمایش خواهیم داد.\n",
    "impurity=True باعث نمایش gini در نمودار می شود.</p>"
   ]
  },
  {
   "cell_type": "markdown",
   "id": "grateful-supervision",
   "metadata": {},
   "source": [
    "<h3 style=\"text-align:left;color:#945aaf;background-color:#ffffff;font-size:48p\"><strong> j) </strong></h3>"
   ]
  },
  {
   "cell_type": "code",
   "execution_count": 31,
   "id": "interpreted-facial",
   "metadata": {},
   "outputs": [],
   "source": [
    "import collections\n",
    "from IPython.display import Image  \n"
   ]
  },
  {
   "cell_type": "code",
   "execution_count": 53,
   "id": "occasional-teddy",
   "metadata": {
    "scrolled": true
   },
   "outputs": [
    {
     "data": {
      "image/png": "[encoded data removed]",
      "text/plain": [
       "<IPython.core.display.Image object>"
      ]
     },
     "execution_count": 53,
     "metadata": {},
     "output_type": "execute_result"
    }
   ],
   "source": [
    "graph = pydotplus.graph_from_dot_data(dot_graph)\n",
    "colors = ('turquoise', 'pink')\n",
    "edges = collections.defaultdict(list)\n",
    "\n",
    "for edge in graph.get_edge_list():\n",
    "    edges[edge.get_source()].append(int(edge.get_destination()))\n",
    "\n",
    "for edge in edges:\n",
    "    edges[edge].sort()    \n",
    "    for i in range(2):\n",
    "        dest = graph.get_node(str(edges[edge][i]))[0]\n",
    "        dest.set_fillcolor(colors[i])\n",
    "\n",
    "graph.write_png('mytree.png')\n",
    "Image(graph.create_png())\n"
   ]
  },
  {
   "cell_type": "markdown",
   "id": "stone-lemon",
   "metadata": {},
   "source": [
    "<h4 style=\"direction:rtl;text-align:right;color:#945aaf;background-color:#ffffff;font-size:48p\"><strong>شرح کد :</strong> </h4>\n",
    "<p style=\"direction:rtl;text-align:right;\">ابتدا dot_graph ی را که در سوال قبل از فایلtree.dot خواندیم به شکل یک گراف در متغیرgraph ذخیره می کنیم.\n",
    "سپس پالت رنگی برای رسم را تعیین می کنیم.برای یال هایی که در گرافgraph وجود دارد مبدا و مقصد آنها را یه هم وصل می کنیم و سپس گراف را مرتب و رنگ آمیزی می کنیم.درنهایت آن را به عنوان یک عکس ذخیره و با خواندن غکس نمایش می دهیم.</p>\n",
    "<h4 style=\"direction:rtl;text-align:right;color:#945aaf;background-color:#ffffff;font-size:40p\"><strong>توصیف نمودار :</strong> </h4>\n",
    "<p style=\"direction:rtl;text-align:right;\">\n",
    "اولین متغیری که بررسی شده است و در ریشه درخت قرار گرفته است Serum_thyroxin است چون separator خوبی است و تمایز بیشتری ایجاد می کند.اگر مقدار آن کمتر از 11 ابشد بدون بررسی هیچ ویژگی دیگر با می توان گفت در کلاس Outcome1 است و با توجه به  نمودار چون gini=0 کلاس خیلی خالص و ایده ال است.\n",
    "سپس در سمت راست درخت با فرض متغیر قبل بزرگتر از 11 است متغیر بعدی را بررسی می کند که اگر کوچکترمساوی 1.55 باشد باز یک گره خالص از کلاس 1 را در خروجی خواهیم داشت اما اگر اینطور نباشد سراغ بررسی متغیرهای بعد می رویم و همینطور ادامه می دهیم تا درختی ساخته بشود که ترجیحا بالانس است و در برگ ها دسته بندی هایی صورت گرفته است که gini آنها حداقل است و دسته بندی مناسبی است. </p>"
   ]
  }
 ],
 "metadata": {
  "kernelspec": {
   "display_name": "Python 3",
   "language": "python",
   "name": "python3"
  },
  "language_info": {
   "codemirror_mode": {
    "name": "ipython",
    "version": 3
   },
   "file_extension": ".py",
   "mimetype": "text/x-python",
   "name": "python",
   "nbconvert_exporter": "python",
   "pygments_lexer": "ipython3",
   "version": "3.8.8"
  }
 },
 "nbformat": 4,
 "nbformat_minor": 5
}
